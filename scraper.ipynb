{
 "cells": [
  {
   "cell_type": "code",
   "execution_count": 1,
   "id": "3f7f4b91",
   "metadata": {},
   "outputs": [],
   "source": [
    "from bs4 import BeautifulSoup\n",
    "from selenium import webdriver\n",
    "from selenium.webdriver.common.by import By\n",
    "from selenium.common.exceptions import NoSuchElementException\n",
    "\n",
    "from webdriver_manager.chrome import ChromeDriverManager\n",
    "\n",
    "import requests\n",
    "import csv\n",
    "import os\n",
    "\n",
    "import numpy as np\n",
    "import pandas as pd\n",
    "from numpy import random\n",
    "from time import sleep\n",
    "\n",
    "import BATParser"
   ]
  },
  {
   "cell_type": "code",
   "execution_count": 2,
   "id": "94d4e4e5",
   "metadata": {},
   "outputs": [
    {
     "name": "stderr",
     "output_type": "stream",
     "text": [
      "\n",
      "\n",
      "====== WebDriver manager ======\n",
      "Current google-chrome version is 99.0.4844\n",
      "Get LATEST chromedriver version for 99.0.4844 google-chrome\n",
      "Trying to download new driver from https://chromedriver.storage.googleapis.com/99.0.4844.51/chromedriver_win32.zip\n",
      "Driver has been saved in cache [C:\\Users\\Benjamin\\.wdm\\drivers\\chromedriver\\win32\\99.0.4844.51]\n",
      "C:\\Users\\Benjamin\\AppData\\Local\\Temp\\ipykernel_13876\\2457385079.py:1: DeprecationWarning: executable_path has been deprecated, please pass in a Service object\n",
      "  driver = webdriver.Chrome(ChromeDriverManager().install())\n"
     ]
    }
   ],
   "source": [
    "driver = webdriver.Chrome(ChromeDriverManager().install())\n",
    "# driver = webdriver.Chrome()\n",
    "driver.get('https://bringatrailer.com/toyota/land-cruiser-fj60-fj62/')"
   ]
  },
  {
   "cell_type": "code",
   "execution_count": 3,
   "id": "755cc4df",
   "metadata": {},
   "outputs": [],
   "source": [
    "# extend page\n",
    "while True:\n",
    "    try:\n",
    "        button = driver.find_element(By.XPATH , \"//div[@class='auctions-footer auctions-footer-previous']/*\")\n",
    "        button.click()\n",
    "    except NoSuchElementException:\n",
    "        break\n",
    "    sleeptime = random.uniform(3, 5)\n",
    "    sleep(sleeptime)"
   ]
  },
  {
   "cell_type": "code",
   "execution_count": 4,
   "id": "33fb3475",
   "metadata": {},
   "outputs": [],
   "source": [
    "html = driver.page_source\n",
    "html_soup = BeautifulSoup(html, 'lxml')\n",
    "\n",
    "listings = html_soup.find('div', {'class': 'blocks'}).find_all('div', {'class': 'block'})\n",
    "links = []\n",
    "for listing in listings:\n",
    "    link = listing.a.get('href')\n",
    "    links.append(link)\n",
    "# remove below link because it was REMOVED from auction, but page still exists (i.e., auction did not finish)\n",
    "links.remove('https://bringatrailer.com/listing/1984-toyota-land-cruiser-fj60-7/')"
   ]
  },
  {
   "cell_type": "code",
   "execution_count": 6,
   "id": "534537ad",
   "metadata": {
    "scrolled": true
   },
   "outputs": [],
   "source": [
    "parser = BATParser.Parser()\n",
    "with open ('landcruisers.csv', 'w', newline='', encoding='utf-8') as csv_file:\n",
    "    csv_writer = csv.writer(csv_file)\n",
    "    # header\n",
    "    csv_writer.writerow(['title','price','sell_date', 'no_views','no_watchers','no_comments', 'no_bids', 'seller_state', \n",
    "                         'year', 'series', 'miles','engine','trans','exterior','interior', 'misc', 'url'])\n",
    "    for url in links[:382]:\n",
    "        # Retrieve source page\n",
    "        source = requests.get(url).text\n",
    "        # Scrape page\n",
    "        scraped_page = parser.parse_page(source)\n",
    "        scraped_page.append(url)\n",
    "        csv_writer.writerow(scraped_page)\n",
    "        # Sleepy time\n",
    "        sleeptime = random.uniform(10, 45)\n",
    "        sleep(sleeptime)"
   ]
  }
 ],
 "metadata": {
  "kernelspec": {
   "display_name": "Python 3 (ipykernel)",
   "language": "python",
   "name": "python3"
  },
  "language_info": {
   "codemirror_mode": {
    "name": "ipython",
    "version": 3
   },
   "file_extension": ".py",
   "mimetype": "text/x-python",
   "name": "python",
   "nbconvert_exporter": "python",
   "pygments_lexer": "ipython3",
   "version": "3.10.2"
  }
 },
 "nbformat": 4,
 "nbformat_minor": 5
}
