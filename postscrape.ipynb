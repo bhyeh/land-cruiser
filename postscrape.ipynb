{
 "cells": [
  {
   "cell_type": "code",
   "execution_count": null,
   "id": "f70b4464",
   "metadata": {},
   "outputs": [],
   "source": [
    "import pandas as pd\n",
    "import numpy as np"
   ]
  },
  {
   "cell_type": "code",
   "execution_count": null,
   "id": "d882c538",
   "metadata": {
    "scrolled": false
   },
   "outputs": [],
   "source": [
    "landcruisers = pd.read_csv('landcruisers-raw.csv')\n",
    "landcruisers.head()"
   ]
  },
  {
   "cell_type": "code",
   "execution_count": null,
   "id": "7b52aaf5",
   "metadata": {},
   "outputs": [],
   "source": [
    "landcruisers.isna().sum()"
   ]
  },
  {
   "cell_type": "code",
   "execution_count": null,
   "id": "48323f83",
   "metadata": {
    "scrolled": true
   },
   "outputs": [],
   "source": [
    "from colour import Color\n",
    "import re\n",
    "\n",
    "descrip = landcruisers.exterior\n",
    "descrip "
   ]
  },
  {
   "cell_type": "code",
   "execution_count": null,
   "id": "23a1ecce",
   "metadata": {},
   "outputs": [],
   "source": [
    "def strip(string):\n",
    "    \"\"\"\n",
    "    \"\"\"\n",
    "    \n",
    "    string = re.sub('-', ' ', string)\n",
    "    string = re.sub('/', ' ', string)\n",
    "    split = string.split(' ')\n",
    "    split = [substring.strip(' -') for substring in split]\n",
    "    string = ' '.join(split).strip(' ')\n",
    "    return string\n",
    "\n",
    "def sub_color(string):\n",
    "    \"\"\"\n",
    "    \"\"\"\n",
    "    \n",
    "    string = re.sub('copper', 'brown', string)\n",
    "    string = re.sub('bronze', 'brown', string)\n",
    "    string = re.sub('cream', 'tan', string)\n",
    "    return string\n",
    "\n",
    "def check_color(color):\n",
    "    \"\"\"\n",
    "    \"\"\"\n",
    "    try:\n",
    "        Color(color)\n",
    "        return True\n",
    "    except ValueError:\n",
    "        return False\n",
    "    \n",
    "def reg_color(string):\n",
    "    \"\"\"\n",
    "    \"\"\"\n",
    "    \n",
    "    color = [substring for substring in string.split(' ') if check_color(substring)]\n",
    "    if len(color):\n",
    "        color = color[0]\n",
    "    else:\n",
    "        color = np.nan\n",
    "    return color"
   ]
  },
  {
   "cell_type": "code",
   "execution_count": null,
   "id": "7c08ae96",
   "metadata": {},
   "outputs": [],
   "source": [
    "descrip = descrip.apply(strip)\n",
    "descrip"
   ]
  },
  {
   "cell_type": "code",
   "execution_count": null,
   "id": "b999d29f",
   "metadata": {},
   "outputs": [],
   "source": [
    "descrip = descrip.apply(sub_color)\n",
    "descrip"
   ]
  },
  {
   "cell_type": "code",
   "execution_count": null,
   "id": "630e6fd1",
   "metadata": {},
   "outputs": [],
   "source": [
    "descrip = descrip.apply(reg_color)\n",
    "descrip"
   ]
  },
  {
   "cell_type": "code",
   "execution_count": null,
   "id": "d91b3fec",
   "metadata": {},
   "outputs": [],
   "source": [
    "landcruisers.exterior[descrip.isna()]"
   ]
  }
 ],
 "metadata": {
  "kernelspec": {
   "display_name": "Python 3 (ipykernel)",
   "language": "python",
   "name": "python3"
  },
  "language_info": {
   "codemirror_mode": {
    "name": "ipython",
    "version": 3
   },
   "file_extension": ".py",
   "mimetype": "text/x-python",
   "name": "python",
   "nbconvert_exporter": "python",
   "pygments_lexer": "ipython3",
   "version": "3.10.2"
  }
 },
 "nbformat": 4,
 "nbformat_minor": 5
}
