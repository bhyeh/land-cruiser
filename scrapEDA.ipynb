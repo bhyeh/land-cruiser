{
 "cells": [
  {
   "cell_type": "code",
   "execution_count": null,
   "metadata": {},
   "outputs": [],
   "source": [
    "import pandas as pd\n",
    "import numpy as np"
   ]
  },
  {
   "cell_type": "code",
   "execution_count": null,
   "metadata": {},
   "outputs": [],
   "source": [
    "landcruisers = pd.read_csv('landcruisers-cleaned.csv')\n",
    "landcruisers"
   ]
  }
 ],
 "metadata": {
  "interpreter": {
   "hash": "5e49d3f08de9ca05607c8add2bad8bbabea70c04960105f41c08b6cc990f1e39"
  },
  "kernelspec": {
   "display_name": "Python 3.10.2 ('beautifulsoup')",
   "language": "python",
   "name": "python3"
  },
  "language_info": {
   "codemirror_mode": {
    "name": "ipython",
    "version": 3
   },
   "file_extension": ".py",
   "mimetype": "text/x-python",
   "name": "python",
   "nbconvert_exporter": "python",
   "pygments_lexer": "ipython3",
   "version": "3.9.10"
  },
  "orig_nbformat": 4
 },
 "nbformat": 4,
 "nbformat_minor": 2
}
