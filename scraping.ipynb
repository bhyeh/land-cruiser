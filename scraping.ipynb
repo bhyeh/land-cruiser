{
 "cells": [
  {
   "cell_type": "code",
   "execution_count": 1,
   "id": "3f7f4b91",
   "metadata": {},
   "outputs": [],
   "source": [
    "from bs4 import BeautifulSoup\n",
    "from selenium import webdriver\n",
    "from selenium.webdriver.common.by import By\n",
    "from selenium.common.exceptions import NoSuchElementException\n",
    "\n",
    "from webdriver_manager.chrome import ChromeDriverManager\n",
    "\n",
    "import requests\n",
    "import csv\n",
    "import os\n",
    "\n",
    "import numpy as np\n",
    "import pandas as pd\n",
    "from numpy import random\n",
    "from time import sleep\n",
    "\n",
    "import parser"
   ]
  },
  {
   "cell_type": "code",
   "execution_count": 2,
   "id": "94d4e4e5",
   "metadata": {},
   "outputs": [],
   "source": [
    "# driver = webdriver.Chrome(ChromeDriverManager().install())\n",
    "driver = webdriver.Chrome()\n",
    "driver.get('https://bringatrailer.com/toyota/land-cruiser-fj60-fj62/')"
   ]
  },
  {
   "cell_type": "code",
   "execution_count": 3,
   "id": "755cc4df",
   "metadata": {},
   "outputs": [],
   "source": [
    "# extend page\n",
    "while True:\n",
    "    try:\n",
    "        button = driver.find_element(By.XPATH , \"//div[@class='auctions-footer auctions-footer-previous']/*\")\n",
    "        button.click()\n",
    "    except NoSuchElementException:\n",
    "        break\n",
    "    sleeptime = random.uniform(3, 5)\n",
    "    sleep(sleeptime)"
   ]
  },
  {
   "cell_type": "code",
   "execution_count": 4,
   "id": "f789b4b9",
   "metadata": {},
   "outputs": [],
   "source": [
    "html = driver.page_source\n",
    "soup = BeautifulSoup(html, 'lxml')"
   ]
  },
  {
   "cell_type": "code",
   "execution_count": 5,
   "id": "33fb3475",
   "metadata": {},
   "outputs": [],
   "source": [
    "listings = soup.find('div', {'class': 'blocks'}).find_all('div', {'class': 'block'})\n",
    "links = []\n",
    "for listing in listings:\n",
    "    link = listing.a.get('href')\n",
    "    links.append(link)\n",
    "# remove below link because it was REMOVED from auction, but page still exists (i.e., auction did not finish)\n",
    "links.remove('https://bringatrailer.com/listing/1984-toyota-land-cruiser-fj60-7/')"
   ]
  },
  {
   "cell_type": "code",
   "execution_count": 6,
   "id": "534537ad",
   "metadata": {},
   "outputs": [
    {
     "ename": "AttributeError",
     "evalue": "'NoneType' object has no attribute 'find_all'",
     "output_type": "error",
     "traceback": [
      "\u001b[1;31m---------------------------------------------------------------------------\u001b[0m",
      "\u001b[1;31mAttributeError\u001b[0m                            Traceback (most recent call last)",
      "Input \u001b[1;32mIn [6]\u001b[0m, in \u001b[0;36m<cell line: 2>\u001b[1;34m()\u001b[0m\n\u001b[0;32m      8\u001b[0m \u001b[38;5;28;01mfor\u001b[39;00m url \u001b[38;5;129;01min\u001b[39;00m links:\n\u001b[0;32m      9\u001b[0m     source \u001b[38;5;241m=\u001b[39m requests\u001b[38;5;241m.\u001b[39mget(url)\u001b[38;5;241m.\u001b[39mtext\n\u001b[1;32m---> 11\u001b[0m     scraped_page \u001b[38;5;241m=\u001b[39m \u001b[43mparser\u001b[49m\u001b[38;5;241;43m.\u001b[39;49m\u001b[43mparse\u001b[49m\u001b[43m(\u001b[49m\u001b[43msource\u001b[49m\u001b[43m)\u001b[49m\n\u001b[0;32m     12\u001b[0m     scraped_page\u001b[38;5;241m.\u001b[39mappend(url)\n\u001b[0;32m     13\u001b[0m     csv_writer\u001b[38;5;241m.\u001b[39mwriterow(scraped_page)\n",
      "File \u001b[1;32m~\\OneDrive\\.computing\\land_cruiser_project\\parser.py:178\u001b[0m, in \u001b[0;36mBATParser.parse\u001b[1;34m(self, page_source)\u001b[0m\n\u001b[0;32m    176\u001b[0m auction_stats \u001b[38;5;241m=\u001b[39m soup\u001b[38;5;241m.\u001b[39mfind(\u001b[38;5;124m'\u001b[39m\u001b[38;5;124mdiv\u001b[39m\u001b[38;5;124m'\u001b[39m, {\u001b[38;5;124m'\u001b[39m\u001b[38;5;124mid\u001b[39m\u001b[38;5;124m'\u001b[39m: \u001b[38;5;124m'\u001b[39m\u001b[38;5;124mlisting-bid-container\u001b[39m\u001b[38;5;124m'\u001b[39m})\n\u001b[0;32m    177\u001b[0m auction_essentials \u001b[38;5;241m=\u001b[39m soup\u001b[38;5;241m.\u001b[39mfind(\u001b[38;5;124m'\u001b[39m\u001b[38;5;124mdiv\u001b[39m\u001b[38;5;124m'\u001b[39m, class_\u001b[38;5;241m=\u001b[39m\u001b[38;5;124m'\u001b[39m\u001b[38;5;124messentials\u001b[39m\u001b[38;5;124m'\u001b[39m)\n\u001b[1;32m--> 178\u001b[0m price, sell_date, seller_location, no_comments, no_views, no_watchers, no_bids \u001b[38;5;241m=\u001b[39m \u001b[38;5;28;43mself\u001b[39;49m\u001b[38;5;241;43m.\u001b[39;49m\u001b[43mparse_auction\u001b[49m\u001b[43m(\u001b[49m\u001b[43mauction_details\u001b[49m\u001b[43m,\u001b[49m\n\u001b[0;32m    179\u001b[0m \u001b[43m                                                                                               \u001b[49m\u001b[43mauction_stats\u001b[49m\u001b[43m,\u001b[49m\n\u001b[0;32m    180\u001b[0m \u001b[43m                                                                                               \u001b[49m\u001b[43mauction_essentials\u001b[49m\u001b[43m)\u001b[49m\n\u001b[0;32m    181\u001b[0m \u001b[38;5;66;03m# parse listing title\u001b[39;00m\n\u001b[0;32m    182\u001b[0m listing_title \u001b[38;5;241m=\u001b[39m soup\u001b[38;5;241m.\u001b[39mfind(\u001b[38;5;124m'\u001b[39m\u001b[38;5;124mh1\u001b[39m\u001b[38;5;124m'\u001b[39m, class_\u001b[38;5;241m=\u001b[39m\u001b[38;5;124m'\u001b[39m\u001b[38;5;124mpost-title listing-post-title\u001b[39m\u001b[38;5;124m'\u001b[39m)\u001b[38;5;241m.\u001b[39mtext\n",
      "File \u001b[1;32m~\\OneDrive\\.computing\\land_cruiser_project\\parser.py:44\u001b[0m, in \u001b[0;36mBATParser.parse_auction\u001b[1;34m(self, auction_details, auction_stats, auction_essentials)\u001b[0m\n\u001b[0;32m     41\u001b[0m no_comments \u001b[38;5;241m=\u001b[39m auction_details\u001b[38;5;241m.\u001b[39mfind(\u001b[38;5;124m'\u001b[39m\u001b[38;5;124mspan\u001b[39m\u001b[38;5;124m'\u001b[39m, {\u001b[38;5;124m'\u001b[39m\u001b[38;5;124mclass\u001b[39m\u001b[38;5;124m'\u001b[39m : \u001b[38;5;124m'\u001b[39m\u001b[38;5;124mcomments_header_html\u001b[39m\u001b[38;5;124m'\u001b[39m})\u001b[38;5;241m.\u001b[39mfind(\u001b[38;5;124m'\u001b[39m\u001b[38;5;124mspan\u001b[39m\u001b[38;5;124m'\u001b[39m, {\u001b[38;5;124m'\u001b[39m\u001b[38;5;124mclass\u001b[39m\u001b[38;5;124m'\u001b[39m :\u001b[38;5;124m'\u001b[39m\u001b[38;5;124minfo-value\u001b[39m\u001b[38;5;124m'\u001b[39m})\u001b[38;5;241m.\u001b[39mtext\n\u001b[0;32m     43\u001b[0m \u001b[38;5;66;03m# auction stats\u001b[39;00m\n\u001b[1;32m---> 44\u001b[0m no_views, no_watchers \u001b[38;5;241m=\u001b[39m \u001b[38;5;28mtuple\u001b[39m([stat\u001b[38;5;241m.\u001b[39mtext\u001b[38;5;241m.\u001b[39msplit(\u001b[38;5;124m'\u001b[39m\u001b[38;5;124m \u001b[39m\u001b[38;5;124m'\u001b[39m)[\u001b[38;5;241m0\u001b[39m] \u001b[38;5;28;01mfor\u001b[39;00m stat \u001b[38;5;129;01min\u001b[39;00m \u001b[43mauction_stats\u001b[49m\u001b[38;5;241;43m.\u001b[39;49m\u001b[43mfind\u001b[49m\u001b[43m(\u001b[49m\u001b[38;5;124;43m'\u001b[39;49m\u001b[38;5;124;43mtd\u001b[39;49m\u001b[38;5;124;43m'\u001b[39;49m\u001b[43m,\u001b[49m\u001b[43m \u001b[49m\u001b[43m{\u001b[49m\u001b[38;5;124;43m'\u001b[39;49m\u001b[38;5;124;43mclass\u001b[39;49m\u001b[38;5;124;43m'\u001b[39;49m\u001b[43m:\u001b[49m\u001b[43m \u001b[49m\u001b[38;5;124;43m'\u001b[39;49m\u001b[38;5;124;43mlisting-stats-views\u001b[39;49m\u001b[38;5;124;43m'\u001b[39;49m\u001b[43m}\u001b[49m\u001b[43m)\u001b[49m\u001b[38;5;241;43m.\u001b[39;49m\u001b[43mfind_all\u001b[49m(\u001b[38;5;124m'\u001b[39m\u001b[38;5;124mspan\u001b[39m\u001b[38;5;124m'\u001b[39m)])\n\u001b[0;32m     45\u001b[0m no_bids \u001b[38;5;241m=\u001b[39m auction_stats\u001b[38;5;241m.\u001b[39mfind(\u001b[38;5;124m'\u001b[39m\u001b[38;5;124mtd\u001b[39m\u001b[38;5;124m'\u001b[39m, {\u001b[38;5;124m'\u001b[39m\u001b[38;5;124mclass\u001b[39m\u001b[38;5;124m'\u001b[39m: \u001b[38;5;124m'\u001b[39m\u001b[38;5;124mlisting-stats-value number-bids-value\u001b[39m\u001b[38;5;124m'\u001b[39m})\u001b[38;5;241m.\u001b[39mtext\n\u001b[0;32m     47\u001b[0m \u001b[38;5;66;03m# location\u001b[39;00m\n",
      "\u001b[1;31mAttributeError\u001b[0m: 'NoneType' object has no attribute 'find_all'"
     ]
    }
   ],
   "source": [
    "parser = parser.BATParser()\n",
    "with open ('land_cruiser_scrape.csv', 'w', encoding='utf-8') as csv_file:\n",
    "    # format csv\n",
    "    csv_writer = csv.writer(csv_file)\n",
    "    # header\n",
    "    csv_writer.writerow(['title','price','sell_date', 'no_views','no_watchers','no_comments', 'no_bids', 'seller_state', \n",
    "                         'year', 'series', 'miles','engine','trans','exterior_paint','interior', 'misc', 'url'])\n",
    "    for url in links:\n",
    "        source = requests.get(url).text\n",
    "        \n",
    "        scraped_page = parser.parse(source)\n",
    "        scraped_page.append(url)\n",
    "        csv_writer.writerow(scraped_page)\n",
    "\n",
    "        sleeptime = random.uniform(1, 10)\n",
    "        sleep(sleeptime)"
   ]
  },
  {
   "cell_type": "code",
   "execution_count": null,
   "id": "3848038f",
   "metadata": {},
   "outputs": [],
   "source": [
    "# https://bringatrailer.com/listing/1985-toyota-land-cruiser-fj60-2/ "
   ]
  },
  {
   "cell_type": "code",
   "execution_count": null,
   "id": "58364c11",
   "metadata": {},
   "outputs": [],
   "source": [
    "# https://bringatrailer.com/listing/1984-toyota-land-cruiser-fj60-7/\n",
    "# causes machine to break"
   ]
  }
 ],
 "metadata": {
  "kernelspec": {
   "display_name": "Python 3 (ipykernel)",
   "language": "python",
   "name": "python3"
  },
  "language_info": {
   "codemirror_mode": {
    "name": "ipython",
    "version": 3
   },
   "file_extension": ".py",
   "mimetype": "text/x-python",
   "name": "python",
   "nbconvert_exporter": "python",
   "pygments_lexer": "ipython3",
   "version": "3.10.2"
  }
 },
 "nbformat": 4,
 "nbformat_minor": 5
}
