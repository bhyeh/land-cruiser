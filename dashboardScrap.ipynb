{
 "cells": [
  {
   "cell_type": "code",
   "execution_count": null,
   "metadata": {},
   "outputs": [],
   "source": [
    "import plotly.express as px\n",
    "import pandas as pd"
   ]
  },
  {
   "cell_type": "code",
   "execution_count": null,
   "metadata": {},
   "outputs": [],
   "source": [
    "landcruisers = pd.read_csv('landcruisers-cleaned.csv')\n",
    "landcruisers.head()"
   ]
  },
  {
   "cell_type": "code",
   "execution_count": null,
   "metadata": {},
   "outputs": [],
   "source": [
    "fig = px.scatter(landcruisers, x = 'closing_date', y = 'price', \n",
    "                 color = 'result', \n",
    "                 color_discrete_map = {\n",
    "                     'sold' : 'light blue',\n",
    "                     'reserve not met' : 'orange'\n",
    "                 },\n",
    "                 labels = {'closing_date' : 'Auction Date',\n",
    "                           'price' : 'Closing Bid (USD)',\n",
    "                           'result' : 'Auction Result'})\n",
    "\n",
    "fig.update_traces(showlegend = False,\n",
    "                  hovertemplate = '<b>%{hovertext}</b><br>Bid to %{y:$,} on %{x|%m/%d/%Y}',\n",
    "                  hovertext = landcruisers.title.values,\n",
    "                  name = '')\n",
    "\n",
    "fig.update_xaxes(\n",
    "    dtick = 'M12',\n",
    "    tick0 = '2017-01-01',\n",
    "    tickformat = '%m/%Y', \n",
    "    title_font_family = 'Helvetica'\n",
    ")\n",
    "\n",
    "fig.update_yaxes(\n",
    "    range = [0, 140000],\n",
    "    tickformat = '$,.2r', \n",
    "    title_font_family = 'Helvetica'\n",
    ")\n",
    "\n",
    "fig.update_layout(\n",
    "    font_family = 'Helvetica'\n",
    ")"
   ]
  }
 ],
 "metadata": {
  "interpreter": {
   "hash": "40705a8803da5e30c8e58bc2b1e3269db9cdac1002ce786b26d6bdb5423f3cac"
  },
  "kernelspec": {
   "display_name": "Python 3.9.10 ('plotly')",
   "language": "python",
   "name": "python3"
  },
  "language_info": {
   "codemirror_mode": {
    "name": "ipython",
    "version": 3
   },
   "file_extension": ".py",
   "mimetype": "text/x-python",
   "name": "python",
   "nbconvert_exporter": "python",
   "pygments_lexer": "ipython3",
   "version": "3.9.10"
  },
  "orig_nbformat": 4
 },
 "nbformat": 4,
 "nbformat_minor": 2
}
