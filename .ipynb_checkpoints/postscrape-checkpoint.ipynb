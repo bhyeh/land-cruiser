{
 "cells": [
  {
   "cell_type": "code",
   "execution_count": 1,
   "id": "f70b4464",
   "metadata": {},
   "outputs": [],
   "source": [
    "import pandas as pd\n",
    "import numpy as np"
   ]
  },
  {
   "cell_type": "code",
   "execution_count": 2,
   "id": "d882c538",
   "metadata": {
    "scrolled": false
   },
   "outputs": [
    {
     "data": {
      "text/html": [
       "<div>\n",
       "<style scoped>\n",
       "    .dataframe tbody tr th:only-of-type {\n",
       "        vertical-align: middle;\n",
       "    }\n",
       "\n",
       "    .dataframe tbody tr th {\n",
       "        vertical-align: top;\n",
       "    }\n",
       "\n",
       "    .dataframe thead th {\n",
       "        text-align: right;\n",
       "    }\n",
       "</style>\n",
       "<table border=\"1\" class=\"dataframe\">\n",
       "  <thead>\n",
       "    <tr style=\"text-align: right;\">\n",
       "      <th></th>\n",
       "      <th>title</th>\n",
       "      <th>price</th>\n",
       "      <th>closing_date</th>\n",
       "      <th>result</th>\n",
       "      <th>no_views</th>\n",
       "      <th>no_watchers</th>\n",
       "      <th>no_comments</th>\n",
       "      <th>no_bids</th>\n",
       "      <th>seller_state</th>\n",
       "      <th>year</th>\n",
       "      <th>series</th>\n",
       "      <th>miles</th>\n",
       "      <th>engine</th>\n",
       "      <th>trans</th>\n",
       "      <th>exterior</th>\n",
       "      <th>interior</th>\n",
       "      <th>misc</th>\n",
       "      <th>url</th>\n",
       "    </tr>\n",
       "  </thead>\n",
       "  <tbody>\n",
       "    <tr>\n",
       "      <th>0</th>\n",
       "      <td>1987 Toyota Land Cruiser FJ60</td>\n",
       "      <td>19,000</td>\n",
       "      <td>3/22/2022</td>\n",
       "      <td>sold</td>\n",
       "      <td>9,829</td>\n",
       "      <td>684</td>\n",
       "      <td>24</td>\n",
       "      <td>22</td>\n",
       "      <td>augusta, georgia 30909</td>\n",
       "      <td>1987</td>\n",
       "      <td>fj60</td>\n",
       "      <td>342k</td>\n",
       "      <td>4.2-liter inline-six</td>\n",
       "      <td>manual</td>\n",
       "      <td>red paint</td>\n",
       "      <td>gray upholstery</td>\n",
       "      <td>['342k miles shown', '4.2-liter inline-six', '...</td>\n",
       "      <td>https://bringatrailer.com/listing/1987-toyota-...</td>\n",
       "    </tr>\n",
       "    <tr>\n",
       "      <th>1</th>\n",
       "      <td>1987 Toyota Land Cruiser FJ60 4-Speed</td>\n",
       "      <td>50,750</td>\n",
       "      <td>3/19/2022</td>\n",
       "      <td>reserve not met</td>\n",
       "      <td>7,258</td>\n",
       "      <td>544</td>\n",
       "      <td>46</td>\n",
       "      <td>35</td>\n",
       "      <td>elma, washington 98541</td>\n",
       "      <td>1987</td>\n",
       "      <td>fj60</td>\n",
       "      <td>77k</td>\n",
       "      <td>4.2-liter inline-six</td>\n",
       "      <td>manual</td>\n",
       "      <td>beige paint</td>\n",
       "      <td>beige cloth &amp; brown vinyl upholstery</td>\n",
       "      <td>['77k miles shown', '4.2-liter inline-six', 'f...</td>\n",
       "      <td>https://bringatrailer.com/listing/1987-toyota-...</td>\n",
       "    </tr>\n",
       "    <tr>\n",
       "      <th>2</th>\n",
       "      <td>1989 Toyota Land Cruiser FJ62</td>\n",
       "      <td>22,500</td>\n",
       "      <td>3/19/2022</td>\n",
       "      <td>sold</td>\n",
       "      <td>9,009</td>\n",
       "      <td>625</td>\n",
       "      <td>39</td>\n",
       "      <td>23</td>\n",
       "      <td>orlando, florida 32827</td>\n",
       "      <td>1989</td>\n",
       "      <td>fj62</td>\n",
       "      <td>205k</td>\n",
       "      <td>4.0-liter inline-six</td>\n",
       "      <td>automatic</td>\n",
       "      <td>beige metallic paint</td>\n",
       "      <td>brown vinyl upholstery</td>\n",
       "      <td>['205k miles shown', '4.0-liter inline-six', '...</td>\n",
       "      <td>https://bringatrailer.com/listing/1989-toyota-...</td>\n",
       "    </tr>\n",
       "    <tr>\n",
       "      <th>3</th>\n",
       "      <td>No Reserve: 1988 Toyota Land Cruiser FJ62</td>\n",
       "      <td>13,250</td>\n",
       "      <td>3/16/2022</td>\n",
       "      <td>sold</td>\n",
       "      <td>9,178</td>\n",
       "      <td>635</td>\n",
       "      <td>17</td>\n",
       "      <td>44</td>\n",
       "      <td>hyattsville, maryland 20781</td>\n",
       "      <td>1988</td>\n",
       "      <td>fj62</td>\n",
       "      <td>228k</td>\n",
       "      <td>4.0l 3f-e inline-six</td>\n",
       "      <td>automatic</td>\n",
       "      <td>beige metallic paint</td>\n",
       "      <td>beige cloth upholstery</td>\n",
       "      <td>['228k miles shown', '4.0l 3f-e inline-six', '...</td>\n",
       "      <td>https://bringatrailer.com/listing/1988-toyota-...</td>\n",
       "    </tr>\n",
       "    <tr>\n",
       "      <th>4</th>\n",
       "      <td>No Reserve: 1984 Toyota Land Cruiser FJ60</td>\n",
       "      <td>33,000</td>\n",
       "      <td>3/14/2022</td>\n",
       "      <td>sold</td>\n",
       "      <td>9,178</td>\n",
       "      <td>580</td>\n",
       "      <td>36</td>\n",
       "      <td>15</td>\n",
       "      <td>corrales, new mexico 87048</td>\n",
       "      <td>1984</td>\n",
       "      <td>fj60</td>\n",
       "      <td>103k</td>\n",
       "      <td>4.2-liter inline-six</td>\n",
       "      <td>manual</td>\n",
       "      <td>refinished in copper metallic</td>\n",
       "      <td>brown cloth &amp; vinyl upholstery</td>\n",
       "      <td>['103k miles', '4.2-liter inline-six', '4-spee...</td>\n",
       "      <td>https://bringatrailer.com/listing/1984-toyota-...</td>\n",
       "    </tr>\n",
       "  </tbody>\n",
       "</table>\n",
       "</div>"
      ],
      "text/plain": [
       "                                       title   price closing_date  \\\n",
       "0              1987 Toyota Land Cruiser FJ60  19,000    3/22/2022   \n",
       "1      1987 Toyota Land Cruiser FJ60 4-Speed  50,750    3/19/2022   \n",
       "2              1989 Toyota Land Cruiser FJ62  22,500    3/19/2022   \n",
       "3  No Reserve: 1988 Toyota Land Cruiser FJ62  13,250    3/16/2022   \n",
       "4  No Reserve: 1984 Toyota Land Cruiser FJ60  33,000    3/14/2022   \n",
       "\n",
       "            result no_views no_watchers  no_comments  no_bids  \\\n",
       "0             sold    9,829         684           24       22   \n",
       "1  reserve not met    7,258         544           46       35   \n",
       "2             sold    9,009         625           39       23   \n",
       "3             sold    9,178         635           17       44   \n",
       "4             sold    9,178         580           36       15   \n",
       "\n",
       "                  seller_state  year series miles                engine  \\\n",
       "0       augusta, georgia 30909  1987   fj60  342k  4.2-liter inline-six   \n",
       "1       elma, washington 98541  1987   fj60   77k  4.2-liter inline-six   \n",
       "2       orlando, florida 32827  1989   fj62  205k  4.0-liter inline-six   \n",
       "3  hyattsville, maryland 20781  1988   fj62  228k  4.0l 3f-e inline-six   \n",
       "4   corrales, new mexico 87048  1984   fj60  103k  4.2-liter inline-six   \n",
       "\n",
       "       trans                       exterior  \\\n",
       "0     manual                      red paint   \n",
       "1     manual                    beige paint   \n",
       "2  automatic           beige metallic paint   \n",
       "3  automatic           beige metallic paint   \n",
       "4     manual  refinished in copper metallic   \n",
       "\n",
       "                               interior  \\\n",
       "0                       gray upholstery   \n",
       "1  beige cloth & brown vinyl upholstery   \n",
       "2                brown vinyl upholstery   \n",
       "3                beige cloth upholstery   \n",
       "4        brown cloth & vinyl upholstery   \n",
       "\n",
       "                                                misc  \\\n",
       "0  ['342k miles shown', '4.2-liter inline-six', '...   \n",
       "1  ['77k miles shown', '4.2-liter inline-six', 'f...   \n",
       "2  ['205k miles shown', '4.0-liter inline-six', '...   \n",
       "3  ['228k miles shown', '4.0l 3f-e inline-six', '...   \n",
       "4  ['103k miles', '4.2-liter inline-six', '4-spee...   \n",
       "\n",
       "                                                 url  \n",
       "0  https://bringatrailer.com/listing/1987-toyota-...  \n",
       "1  https://bringatrailer.com/listing/1987-toyota-...  \n",
       "2  https://bringatrailer.com/listing/1989-toyota-...  \n",
       "3  https://bringatrailer.com/listing/1988-toyota-...  \n",
       "4  https://bringatrailer.com/listing/1984-toyota-...  "
      ]
     },
     "execution_count": 2,
     "metadata": {},
     "output_type": "execute_result"
    }
   ],
   "source": [
    "landcruisers = pd.read_csv('landcruisers.csv')\n",
    "landcruisers.head()"
   ]
  },
  {
   "cell_type": "code",
   "execution_count": 3,
   "id": "e22f1c74",
   "metadata": {
    "scrolled": false
   },
   "outputs": [
    {
     "data": {
      "text/plain": [
       "array(['4.0-liter inline-six', '4.0l 3f-e inline-six',\n",
       "       'rebuilt 4.0-liter 3f-e inline-six', '6.2l ls3 v8',\n",
       "       '4.0-liter 3f-e inline-six', '4.5-liter 1fz inline-six',\n",
       "       '5.3-liter l83 v8', '4.0-liter inline six', '5.3-liter vortec v8',\n",
       "       '4.0 3f-e inline-six', '6.2-liter supercharged lsa',\n",
       "       '4.0l inline-six', 'replacement 4.0l straight-six',\n",
       "       '4.0-liter 3fe inline-six', 'replacement 4.0-liter straight-six',\n",
       "       '', 'replacement 4.0-liter inline-six', '4.0-liter 3f inline-six',\n",
       "       '3f 4.0l inline-six', '350ci gm v8', '4.0l straight-six',\n",
       "       '5.3l vortec v8', '6.0-liter gm vortec v8',\n",
       "       'rebuilt 4.0-liter inline-six', '6.0-liter gm lq4 v8',\n",
       "       '5.3-liter lc9 v8', '4.8l vortec v8',\n",
       "       'replacement 4.0l inline-six', '6.2-liter ls3 v8',\n",
       "       '3.9l cummins 4bt turbodiesel inline-four',\n",
       "       '4.0 liter 3f-e inline-six', '4.2l 3-fe inline-six',\n",
       "       '4.0-liter inline-six w/efi', '350ci v8', '4.0l 3fe inline-six',\n",
       "       '3f-e 4.0l inline-six', '4.0-liter 3fe inline-six engine',\n",
       "       'replacement 4.0-liter 3f inline-six',\n",
       "       '4.0-liter f-series inline-six', '4.2l inline-six',\n",
       "       '4.0l 3f inline-six', 'fuel-injected 4.0l straight-six',\n",
       "       '4.0 liter 3f-e inline-six engine'], dtype=object)"
      ]
     },
     "execution_count": 3,
     "metadata": {},
     "output_type": "execute_result"
    }
   ],
   "source": [
    "engines62 = pd.Series([substring.strip(' ') for substring in landcruisers[landcruisers.series == 'fj62'].engine.unique()]).unique()\n",
    "engines62"
   ]
  },
  {
   "cell_type": "code",
   "execution_count": 4,
   "id": "7b52aaf5",
   "metadata": {},
   "outputs": [
    {
     "data": {
      "text/plain": [
       "title             0\n",
       "price             0\n",
       "closing_date      0\n",
       "result            0\n",
       "no_views          0\n",
       "no_watchers       0\n",
       "no_comments       0\n",
       "no_bids           0\n",
       "seller_state      0\n",
       "year              0\n",
       "series            0\n",
       "miles             0\n",
       "engine            0\n",
       "trans             0\n",
       "exterior          0\n",
       "interior        144\n",
       "misc              0\n",
       "url               0\n",
       "dtype: int64"
      ]
     },
     "execution_count": 4,
     "metadata": {},
     "output_type": "execute_result"
    }
   ],
   "source": [
    "landcruisers.isna().sum()"
   ]
  },
  {
   "cell_type": "code",
   "execution_count": 5,
   "id": "48323f83",
   "metadata": {
    "scrolled": true
   },
   "outputs": [
    {
     "ename": "ModuleNotFoundError",
     "evalue": "No module named 'colour'",
     "output_type": "error",
     "traceback": [
      "\u001b[1;31m---------------------------------------------------------------------------\u001b[0m",
      "\u001b[1;31mModuleNotFoundError\u001b[0m                       Traceback (most recent call last)",
      "Input \u001b[1;32mIn [5]\u001b[0m, in \u001b[0;36m<cell line: 1>\u001b[1;34m()\u001b[0m\n\u001b[1;32m----> 1\u001b[0m \u001b[38;5;28;01mfrom\u001b[39;00m \u001b[38;5;21;01mcolour\u001b[39;00m \u001b[38;5;28;01mimport\u001b[39;00m Color\n\u001b[0;32m      2\u001b[0m \u001b[38;5;28;01mimport\u001b[39;00m \u001b[38;5;21;01mre\u001b[39;00m\n\u001b[0;32m      4\u001b[0m descrip \u001b[38;5;241m=\u001b[39m landcruisers[landcruisers\u001b[38;5;241m.\u001b[39mexterior\u001b[38;5;241m.\u001b[39mnotna()]\u001b[38;5;241m.\u001b[39mexterior\n",
      "\u001b[1;31mModuleNotFoundError\u001b[0m: No module named 'colour'"
     ]
    }
   ],
   "source": [
    "from colour import Color\n",
    "import re\n",
    "\n",
    "descrip = landcruisers[landcruisers.exterior.notna()].exterior\n",
    "descrip "
   ]
  },
  {
   "cell_type": "code",
   "execution_count": null,
   "id": "2a65679a",
   "metadata": {
    "scrolled": true
   },
   "outputs": [],
   "source": [
    "for d in descrip.unique():\n",
    "    print(d)\n",
    "    print(' ')"
   ]
  },
  {
   "cell_type": "code",
   "execution_count": null,
   "id": "868890c8",
   "metadata": {
    "scrolled": true
   },
   "outputs": [],
   "source": [
    "for d in descrip.unique():\n",
    "    print(reg_color(d))\n",
    "    print(' ')"
   ]
  },
  {
   "cell_type": "code",
   "execution_count": null,
   "id": "b1ac0a0c",
   "metadata": {},
   "outputs": [],
   "source": [
    "pd.Series(landcruisers[landcruisers.exterior.notna()].exterior.unique())"
   ]
  },
  {
   "cell_type": "code",
   "execution_count": null,
   "id": "787d58aa",
   "metadata": {},
   "outputs": [],
   "source": [
    "pd.Series(descrip.unique()).apply(reg_color)"
   ]
  },
  {
   "cell_type": "code",
   "execution_count": null,
   "id": "23a1ecce",
   "metadata": {},
   "outputs": [],
   "source": [
    "def strip(string):\n",
    "    \"\"\"\n",
    "    \"\"\"\n",
    "    \n",
    "    string = re.sub('-', ' ', string)\n",
    "    string = re.sub('/', ' ', string)\n",
    "    split = string.split(' ')\n",
    "    split = [substring.strip(' -') for substring in split]\n",
    "    string = ' '.join(split).strip(' ')\n",
    "    return string\n",
    "\n",
    "def sub_color(string):\n",
    "    \"\"\"\n",
    "    \"\"\"\n",
    "    \n",
    "    string = re.sub('copper', 'brown', string)\n",
    "    string = re.sub('bronze', 'brown', string)\n",
    "    string = re.sub('cream', 'tan', string)\n",
    "    return string\n",
    "\n",
    "def check_color(color):\n",
    "    \"\"\"\n",
    "    \"\"\"\n",
    "    try:\n",
    "        Color(color)\n",
    "        return True\n",
    "    except ValueError:\n",
    "        return False\n",
    "    \n",
    "def reg_color(string):\n",
    "    \"\"\"\n",
    "    \"\"\"\n",
    "    \n",
    "    color = [substring for substring in string.split(' ') if check_color(substring)]\n",
    "    if len(color):\n",
    "        color = color[0]\n",
    "    else:\n",
    "        color = np.nan\n",
    "    return color"
   ]
  },
  {
   "cell_type": "code",
   "execution_count": null,
   "id": "7c08ae96",
   "metadata": {},
   "outputs": [],
   "source": [
    "descrip = descrip.apply(strip)\n",
    "descrip"
   ]
  },
  {
   "cell_type": "code",
   "execution_count": null,
   "id": "b999d29f",
   "metadata": {},
   "outputs": [],
   "source": [
    "descrip = descrip.apply(sub_color)\n",
    "descrip"
   ]
  },
  {
   "cell_type": "code",
   "execution_count": null,
   "id": "a3764cef",
   "metadata": {},
   "outputs": [],
   "source": [
    "descrip.apply(reg_color)[descrip.apply(reg_color).notna()]"
   ]
  },
  {
   "cell_type": "code",
   "execution_count": null,
   "id": "9b51ce4e",
   "metadata": {},
   "outputs": [],
   "source": [
    "descrip[descrip.apply(reg_color).isna()]"
   ]
  },
  {
   "cell_type": "code",
   "execution_count": null,
   "id": "c2736fb7",
   "metadata": {},
   "outputs": [],
   "source": [
    "landcruisers.iloc[123,:]"
   ]
  }
 ],
 "metadata": {
  "kernelspec": {
   "display_name": "Python 3 (ipykernel)",
   "language": "python",
   "name": "python3"
  },
  "language_info": {
   "codemirror_mode": {
    "name": "ipython",
    "version": 3
   },
   "file_extension": ".py",
   "mimetype": "text/x-python",
   "name": "python",
   "nbconvert_exporter": "python",
   "pygments_lexer": "ipython3",
   "version": "3.9.10"
  }
 },
 "nbformat": 4,
 "nbformat_minor": 5
}
