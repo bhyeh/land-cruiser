{
 "cells": [
  {
   "cell_type": "code",
   "execution_count": 2,
   "id": "3f7f4b91",
   "metadata": {},
   "outputs": [],
   "source": [
    "from bs4 import BeautifulSoup\n",
    "from selenium import webdriver\n",
    "from selenium.webdriver.common.by import By\n",
    "from selenium.common.exceptions import NoSuchElementException\n",
    "\n",
    "from webdriver_manager.chrome import ChromeDriverManager\n",
    "\n",
    "import requests\n",
    "import csv\n",
    "import os\n",
    "\n",
    "import numpy as np\n",
    "import pandas as pd\n",
    "from numpy import random\n",
    "from time import sleep\n",
    "\n",
    "import BATParser"
   ]
  },
  {
   "cell_type": "code",
   "execution_count": null,
   "id": "94d4e4e5",
   "metadata": {},
   "outputs": [],
   "source": [
    "driver = webdriver.Chrome(ChromeDriverManager().install())\n",
    "# driver = webdriver.Chrome()\n",
    "driver.get('https://bringatrailer.com/toyota/land-cruiser-fj60-fj62/')"
   ]
  },
  {
   "cell_type": "code",
   "execution_count": null,
   "id": "755cc4df",
   "metadata": {},
   "outputs": [],
   "source": [
    "# extend page\n",
    "while True:\n",
    "    try:\n",
    "        button = driver.find_element(By.XPATH , \"//div[@class='auctions-footer auctions-footer-previous']/*\")\n",
    "        button.click()\n",
    "    except NoSuchElementException:\n",
    "        break\n",
    "    sleeptime = random.uniform(3, 5)\n",
    "    sleep(sleeptime)"
   ]
  },
  {
   "cell_type": "code",
   "execution_count": null,
   "id": "f789b4b9",
   "metadata": {},
   "outputs": [],
   "source": [
    "html = driver.page_source\n",
    "soup = BeautifulSoup(html, 'lxml')"
   ]
  },
  {
   "cell_type": "code",
   "execution_count": null,
   "id": "33fb3475",
   "metadata": {},
   "outputs": [],
   "source": [
    "listings = soup.find('div', {'class': 'blocks'}).find_all('div', {'class': 'block'})\n",
    "links = []\n",
    "for listing in listings:\n",
    "    link = listing.a.get('href')\n",
    "    links.append(link)\n",
    "# remove below link because it was REMOVED from auction, but page still exists (i.e., auction did not finish)\n",
    "links.remove('https://bringatrailer.com/listing/1984-toyota-land-cruiser-fj60-7/')"
   ]
  },
  {
   "cell_type": "code",
   "execution_count": null,
   "id": "534537ad",
   "metadata": {
    "scrolled": true
   },
   "outputs": [],
   "source": [
    "parser = BATParser.Parser()\n",
    "with open ('landcruisers.csv', 'w', newline='', encoding='utf-8') as csv_file:\n",
    "    # format csv\n",
    "    csv_writer = csv.writer(csv_file)\n",
    "    # header\n",
    "    csv_writer.writerow(['title','price','sell_date', 'no_views','no_watchers','no_comments', 'no_bids', 'seller_state', \n",
    "                         'year', 'series', 'miles','engine','trans','exterior','interior', 'misc', 'url'])\n",
    "    for url in links:\n",
    "        source = requests.get(url).text\n",
    "        \n",
    "        scraped_page = parser.parse(source)\n",
    "        scraped_page.append(url)\n",
    "        csv_writer.writerow(scraped_page)\n",
    "\n",
    "        sleeptime = random.uniform(20, 60)\n",
    "        sleep(sleeptime)"
   ]
  },
  {
   "cell_type": "code",
   "execution_count": null,
   "id": "3848038f",
   "metadata": {},
   "outputs": [],
   "source": [
    "# https://bringatrailer.com/listing/1985-toyota-land-cruiser-fj60-2/ "
   ]
  },
  {
   "cell_type": "code",
   "execution_count": null,
   "id": "58364c11",
   "metadata": {},
   "outputs": [],
   "source": [
    "# https://bringatrailer.com/listing/1984-toyota-land-cruiser-fj60-7/\n",
    "# causes machine to break"
   ]
  },
  {
   "cell_type": "code",
   "execution_count": 3,
   "id": "e83492b2",
   "metadata": {},
   "outputs": [],
   "source": [
    "import BATParser\n",
    "parser = BATParser.Parser()"
   ]
  },
  {
   "cell_type": "code",
   "execution_count": 8,
   "id": "5e0c246c",
   "metadata": {},
   "outputs": [
    {
     "data": {
      "text/plain": [
       "['1989 Toyota Land Cruiser HJ61',\n",
       " '10,000',\n",
       " '8/15/17',\n",
       " '22,057',\n",
       " '314',\n",
       " '44',\n",
       " '27',\n",
       " 'rego park, new york 11374',\n",
       " '1989',\n",
       " 'hj61',\n",
       " '144,881',\n",
       " '4.0 liter 12h-t inline-six turbodiesel engine',\n",
       " 'automatic',\n",
       " nan,\n",
       " nan,\n",
       " ['chassis: hj61014296',\n",
       "  'japanese domestic model rhd',\n",
       "  '233,163 kms (144,881 miles), 134,332 kms shown',\n",
       "  '4.0 liter 12h-t inline-six turbodiesel engine',\n",
       "  'automatic transmission',\n",
       "  'new 4wd solenoid',\n",
       "  'new front rotors and pads',\n",
       "  '1.5\"/2\" lift',\n",
       "  'old man emu steering stabilizer',\n",
       "  'r134a conversion']]"
      ]
     },
     "execution_count": 8,
     "metadata": {},
     "output_type": "execute_result"
    }
   ],
   "source": [
    "url = 'https://bringatrailer.com/listing/1989-toyota-land-cruiser-3/'\n",
    "source = requests.get(url).text\n",
    "parser.parse(source)"
   ]
  }
 ],
 "metadata": {
  "kernelspec": {
   "display_name": "Python 3 (ipykernel)",
   "language": "python",
   "name": "python3"
  },
  "language_info": {
   "codemirror_mode": {
    "name": "ipython",
    "version": 3
   },
   "file_extension": ".py",
   "mimetype": "text/x-python",
   "name": "python",
   "nbconvert_exporter": "python",
   "pygments_lexer": "ipython3",
   "version": "3.10.2"
  }
 },
 "nbformat": 4,
 "nbformat_minor": 5
}
