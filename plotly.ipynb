{
 "cells": [
  {
   "cell_type": "code",
   "execution_count": 42,
   "metadata": {},
   "outputs": [],
   "source": [
    "import plotly.express as px\n",
    "import pandas as pd"
   ]
  },
  {
   "cell_type": "code",
   "execution_count": 43,
   "metadata": {},
   "outputs": [
    {
     "data": {
      "text/html": [
       "<div>\n",
       "<style scoped>\n",
       "    .dataframe tbody tr th:only-of-type {\n",
       "        vertical-align: middle;\n",
       "    }\n",
       "\n",
       "    .dataframe tbody tr th {\n",
       "        vertical-align: top;\n",
       "    }\n",
       "\n",
       "    .dataframe thead th {\n",
       "        text-align: right;\n",
       "    }\n",
       "</style>\n",
       "<table border=\"1\" class=\"dataframe\">\n",
       "  <thead>\n",
       "    <tr style=\"text-align: right;\">\n",
       "      <th></th>\n",
       "      <th>title</th>\n",
       "      <th>price</th>\n",
       "      <th>closing_date</th>\n",
       "      <th>closing_month</th>\n",
       "      <th>closing_year</th>\n",
       "      <th>result</th>\n",
       "      <th>no_views</th>\n",
       "      <th>no_watchers</th>\n",
       "      <th>no_bids</th>\n",
       "      <th>seller_state</th>\n",
       "      <th>year</th>\n",
       "      <th>engine_body_type</th>\n",
       "      <th>body_type</th>\n",
       "      <th>miles</th>\n",
       "      <th>engine</th>\n",
       "      <th>trans</th>\n",
       "      <th>exterior</th>\n",
       "      <th>url</th>\n",
       "    </tr>\n",
       "  </thead>\n",
       "  <tbody>\n",
       "    <tr>\n",
       "      <th>0</th>\n",
       "      <td>1987 Toyota Land Cruiser FJ60</td>\n",
       "      <td>19000</td>\n",
       "      <td>2022-03-22</td>\n",
       "      <td>march</td>\n",
       "      <td>2022</td>\n",
       "      <td>sold</td>\n",
       "      <td>9829</td>\n",
       "      <td>684</td>\n",
       "      <td>22</td>\n",
       "      <td>georgia</td>\n",
       "      <td>1987</td>\n",
       "      <td>fj60</td>\n",
       "      <td>60</td>\n",
       "      <td>342000</td>\n",
       "      <td>2F</td>\n",
       "      <td>manual</td>\n",
       "      <td>red</td>\n",
       "      <td>https://bringatrailer.com/listing/1987-toyota-...</td>\n",
       "    </tr>\n",
       "    <tr>\n",
       "      <th>1</th>\n",
       "      <td>1987 Toyota Land Cruiser FJ60 4-Speed</td>\n",
       "      <td>50750</td>\n",
       "      <td>2022-03-19</td>\n",
       "      <td>march</td>\n",
       "      <td>2022</td>\n",
       "      <td>reserve not met</td>\n",
       "      <td>7258</td>\n",
       "      <td>544</td>\n",
       "      <td>35</td>\n",
       "      <td>washington</td>\n",
       "      <td>1987</td>\n",
       "      <td>fj60</td>\n",
       "      <td>60</td>\n",
       "      <td>77000</td>\n",
       "      <td>2F</td>\n",
       "      <td>manual</td>\n",
       "      <td>beige</td>\n",
       "      <td>https://bringatrailer.com/listing/1987-toyota-...</td>\n",
       "    </tr>\n",
       "    <tr>\n",
       "      <th>2</th>\n",
       "      <td>1989 Toyota Land Cruiser FJ62</td>\n",
       "      <td>22500</td>\n",
       "      <td>2022-03-19</td>\n",
       "      <td>march</td>\n",
       "      <td>2022</td>\n",
       "      <td>sold</td>\n",
       "      <td>9009</td>\n",
       "      <td>625</td>\n",
       "      <td>23</td>\n",
       "      <td>florida</td>\n",
       "      <td>1989</td>\n",
       "      <td>fj62</td>\n",
       "      <td>62</td>\n",
       "      <td>205000</td>\n",
       "      <td>3F-E</td>\n",
       "      <td>automatic</td>\n",
       "      <td>beige</td>\n",
       "      <td>https://bringatrailer.com/listing/1989-toyota-...</td>\n",
       "    </tr>\n",
       "    <tr>\n",
       "      <th>3</th>\n",
       "      <td>No Reserve: 1988 Toyota Land Cruiser FJ62</td>\n",
       "      <td>13250</td>\n",
       "      <td>2022-03-16</td>\n",
       "      <td>march</td>\n",
       "      <td>2022</td>\n",
       "      <td>sold</td>\n",
       "      <td>9178</td>\n",
       "      <td>635</td>\n",
       "      <td>44</td>\n",
       "      <td>maryland</td>\n",
       "      <td>1988</td>\n",
       "      <td>fj62</td>\n",
       "      <td>62</td>\n",
       "      <td>228000</td>\n",
       "      <td>3F-E</td>\n",
       "      <td>automatic</td>\n",
       "      <td>beige</td>\n",
       "      <td>https://bringatrailer.com/listing/1988-toyota-...</td>\n",
       "    </tr>\n",
       "    <tr>\n",
       "      <th>4</th>\n",
       "      <td>No Reserve: 1984 Toyota Land Cruiser FJ60</td>\n",
       "      <td>33000</td>\n",
       "      <td>2022-03-14</td>\n",
       "      <td>march</td>\n",
       "      <td>2022</td>\n",
       "      <td>sold</td>\n",
       "      <td>9178</td>\n",
       "      <td>580</td>\n",
       "      <td>15</td>\n",
       "      <td>new mexico</td>\n",
       "      <td>1984</td>\n",
       "      <td>fj60</td>\n",
       "      <td>60</td>\n",
       "      <td>103000</td>\n",
       "      <td>2F</td>\n",
       "      <td>manual</td>\n",
       "      <td>brown</td>\n",
       "      <td>https://bringatrailer.com/listing/1984-toyota-...</td>\n",
       "    </tr>\n",
       "  </tbody>\n",
       "</table>\n",
       "</div>"
      ],
      "text/plain": [
       "                                       title  price closing_date  \\\n",
       "0              1987 Toyota Land Cruiser FJ60  19000   2022-03-22   \n",
       "1      1987 Toyota Land Cruiser FJ60 4-Speed  50750   2022-03-19   \n",
       "2              1989 Toyota Land Cruiser FJ62  22500   2022-03-19   \n",
       "3  No Reserve: 1988 Toyota Land Cruiser FJ62  13250   2022-03-16   \n",
       "4  No Reserve: 1984 Toyota Land Cruiser FJ60  33000   2022-03-14   \n",
       "\n",
       "  closing_month  closing_year           result  no_views  no_watchers  \\\n",
       "0         march          2022             sold      9829          684   \n",
       "1         march          2022  reserve not met      7258          544   \n",
       "2         march          2022             sold      9009          625   \n",
       "3         march          2022             sold      9178          635   \n",
       "4         march          2022             sold      9178          580   \n",
       "\n",
       "   no_bids seller_state  year engine_body_type  body_type   miles engine  \\\n",
       "0       22      georgia  1987             fj60         60  342000     2F   \n",
       "1       35   washington  1987             fj60         60   77000     2F   \n",
       "2       23      florida  1989             fj62         62  205000   3F-E   \n",
       "3       44     maryland  1988             fj62         62  228000   3F-E   \n",
       "4       15   new mexico  1984             fj60         60  103000     2F   \n",
       "\n",
       "       trans exterior                                                url  \n",
       "0     manual      red  https://bringatrailer.com/listing/1987-toyota-...  \n",
       "1     manual    beige  https://bringatrailer.com/listing/1987-toyota-...  \n",
       "2  automatic    beige  https://bringatrailer.com/listing/1989-toyota-...  \n",
       "3  automatic    beige  https://bringatrailer.com/listing/1988-toyota-...  \n",
       "4     manual    brown  https://bringatrailer.com/listing/1984-toyota-...  "
      ]
     },
     "execution_count": 43,
     "metadata": {},
     "output_type": "execute_result"
    }
   ],
   "source": [
    "lc = pd.read_csv('landcruisers-cleaned.csv')\n",
    "lc.head()"
   ]
  },
  {
   "cell_type": "code",
   "execution_count": 41,
   "metadata": {},
   "outputs": [
    {
     "data": {
      "application/vnd.plotly.v1+json": {
       "config": {
        "plotlyServerURL": "https://plot.ly"
       },
       "data": [
        {
         "hovertemplate": "<b>%{hovertext}</b><br>Bid to %{y:$,} on %{x|%m/%d/%Y}",
         "hovertext": [
          "1987 Toyota Land Cruiser FJ60",
          "1987 Toyota Land Cruiser FJ60 4-Speed",
          "1989 Toyota Land Cruiser FJ62",
          "No Reserve: 1988 Toyota Land Cruiser FJ62",
          "No Reserve: 1984 Toyota Land Cruiser FJ60",
          "1986 Toyota Land Cruiser FJ60",
          "1988 Toyota Land Cruiser FJ62",
          "1984 Toyota Land Cruiser FJ60",
          "1985 Toyota Land Cruiser BJ60 Diesel 5-Speed",
          "1990 Toyota Land Cruiser FJ62",
          "1982 Toyota Land Cruiser FJ60",
          "Cummins-Powered 1983 Toyota Land Cruiser FJ60 4-Speed",
          "LS3-Powered 1989 Toyota Land Cruiser FJ62",
          "No Reserve: 1988 Toyota Land Cruiser FJ62",
          "Modified 1981 Toyota Land Cruiser FJ60 5-Speed",
          "1988 Toyota Land Cruiser FJ62",
          "TLC 4×4-Modified 1989 Toyota Land Cruiser FJ62",
          "1989 Toyota Land Cruiser FJ62",
          "1988 Toyota Land Cruiser FJ62",
          "1984 Toyota Land Cruiser FJ60",
          "1984 Toyota Land Cruiser FJ60",
          "1987 Toyota Land Cruiser FJ60 5-Speed",
          "1FZ-Powered 1989 Toyota Land Cruiser FJ62 5-Speed",
          "1989 Toyota Land Cruiser FJ62",
          "No Reserve: Vortec-Powered 1987 Toyota Land Cruiser FJ60",
          "No Reserve: 1989 Toyota Land Cruiser FJ62",
          "1982 Toyota Land Cruiser FJ60",
          "1986 Toyota Land Cruiser FJ60",
          "1984 Toyota Land Cruiser FJ60 5-Speed",
          "1989 Toyota Land Cruiser FJ62",
          "1988 Toyota Land Cruiser FJ62",
          "1986 Toyota Land Cruiser FJ60 5-Speed",
          "1986 Toyota Land Cruiser FJ60",
          "Vortec-Powered 1985 Toyota Land Cruiser FJ60",
          "1983 Toyota Land Cruiser FJ60",
          "1987 Toyota Land Cruiser FJ60 5-Speed",
          "1989 Toyota Land Cruiser FJ62",
          "1988 Toyota Land Cruiser FJ62",
          "1989 Toyota Land Cruiser FJ62",
          "1989 Toyota Land Cruiser FJ62",
          "1982 Toyota Land Cruiser FJ60",
          "1985 Toyota Land Cruiser FJ60",
          "1989 Toyota Land Cruiser FJ62",
          "No Reserve: Rover V8-Powered 1987 Toyota Land Cruiser 5-Speed",
          "1990 Toyota Land Cruiser FJ62",
          "1988 Toyota Land Cruiser FJ62",
          "No Reserve: 27-Years-Owned 1987 Toyota Land Cruiser FJ60",
          "5.3L-Powered 1989 Toyota Land Cruiser FJ62",
          "1988 Toyota Land Cruiser FJ62",
          "1982 Toyota Land Cruiser FJ60",
          "1989 Toyota Land Cruiser FJ62",
          "Vortec-Powered 1984 Toyota Land Cruiser FJ60",
          "1987 Toyota Land Cruiser FJ60",
          "1989 Toyota Land Cruiser FJ62",
          "No Reserve: 1989 Toyota Land Cruiser FJ62",
          "23-Years-Owned 1985 Toyota Land Cruiser FJ60",
          "1984 Toyota Land Cruiser FJ60",
          "1988 Toyota Land Cruiser FJ62",
          "1987 Toyota Land Cruiser FJ60",
          "No Reserve: 1985 Toyota Land Cruiser FJ60",
          "1984 Toyota Land Cruiser FJ60",
          "1989 Toyota Land Cruiser FJ62",
          "1986 Toyota Land Cruiser FJ60",
          "1989 Toyota Land Cruiser FJ62",
          "No Reserve: V8-Powered 1987 Toyota Land Cruiser FJ60 5-Speed",
          "1987 Toyota Land Cruiser FJ60",
          "1989 Toyota Land Cruiser FJ62",
          "1989 Toyota Land Cruiser FJ62",
          "5.7L Vortec-Powered 1985 Toyota Land Cruiser FJ60",
          "1985 Toyota Land Cruiser FJ60",
          "1988 Toyota Land Cruiser FJ62",
          "350-Powered 1986 Toyota Land Cruiser FJ60",
          "1990 Toyota Land Cruiser FJ62",
          "1985 Toyota Land Cruiser FJ60",
          "1985 Toyota Land Cruiser FJ60",
          "1988 Toyota Land Cruiser FJ62",
          "1989 Toyota Land Cruiser FJ62",
          "1984 Toyota Land Cruiser FJ60",
          "No Reserve: 1988 Toyota Land Cruiser FJ62",
          "Vortec-Powered 1989 Toyota Land Cruiser FJ62",
          "1989 Toyota Land Cruiser FJ62",
          "1987 Toyota Land Cruiser FJ60 5-Speed",
          "No Reserve: Modified 1984 Toyota Land Cruiser FJ60 5-Speed",
          "No Reserve: 1990 Toyota Land Cruiser FJ62",
          "1984 Toyota Land Cruiser FJ60",
          "1984 Toyota Land Cruiser FJ60",
          "1989 Toyota Land Cruiser FJ62",
          "1FZ-Powered 1989 Toyota Land Cruiser FJ62 5-Speed",
          "350-Powered 1985 Toyota Land Cruiser FJ60",
          "No Reserve: 1987 Toyota Land Cruiser FJ60",
          "1989 Toyota Land Cruiser FJ62",
          "350-Powered 1987 Toyota Land Cruiser FJ60",
          "1985 Toyota Land Cruiser FJ60",
          "1988 Toyota Land Cruiser FJ62",
          "1987 Toyota Land Cruiser FJ60",
          "LSA-Powered 1990 Toyota Land Cruiser FJ62",
          "No Reserve: 1988 Toyota Land Cruiser FJ62",
          "1989 Toyota Land Cruiser FJ62",
          "No Reserve: 1986 Toyota Land Cruiser FJ60",
          "No Reserve: 1985 Toyota Land Cruiser FJ60",
          "1989 Toyota Land Cruiser FJ62",
          "1984 Toyota Land Cruiser FJ60 5-Speed 4×4",
          "1985 Toyota Land Cruiser FJ60",
          "1989 Toyota Land Cruiser FJ62",
          "Original-Owner 1989 Toyota Land Cruiser FJ62",
          "Modified 1984 Toyota Land Cruiser FJ60",
          "1990 Toyota Land Cruiser FJ62",
          "No Reserve: 1989 Toyota Land Cruiser FJ62",
          "1985 Toyota Land Cruiser FJ60 5-Speed",
          "1983 Toyota Land Cruiser FJ60",
          "1988 Toyota Land Cruiser HJ60 High Roof",
          "1985 Toyota Land Cruiser FJ60",
          "1990 Toyota Land Cruiser FJ62",
          "1985 Toyota Land Cruiser FJ60",
          "1989 Toyota Land Cruiser FJ62",
          "No Reserve: 1983 Toyota Land Cruiser FJ60 Project",
          "1990 Toyota Land Cruiser FJ62",
          "1989 Toyota Land Cruiser FJ62",
          "1988 Toyota Land Cruiser FJ62",
          "No Reserve: Vortec-Powered 1990 Toyota Land Cruiser FJ62",
          "1987 Toyota Land Cruiser FJ60",
          "1985 Toyota Land Cruiser FJ60",
          "V8-Powered 1987 Toyota Land Cruiser FJ60",
          "1987 Toyota Land Cruiser FJ60 Turbodiesel",
          "1989 Toyota Land Cruiser FJ62",
          "1986 Toyota Land Cruiser FJ60 5-Speed",
          "Vortec-Powered 1985 Toyota Land Cruiser FJ60",
          "1989 Toyota Land Cruiser FJ62",
          "1986 Toyota Land Cruiser FJ60 5-Speed",
          "1988 Toyota Land Cruiser FJ62",
          "1989 Toyota Land Cruiser FJ62",
          "1989 Toyota Land Cruiser FJ62",
          "1989 Toyota Land Cruiser FJ62",
          "1987 Toyota Land Cruiser FJ60 5-Speed",
          "1985 Toyota Land Cruiser FJ60",
          "1989 Toyota Land Cruiser FJ62",
          "1985 Toyota Land Cruiser FJ60",
          "1989 Toyota Land Cruiser FJ62",
          "No Reserve: 1988 Toyota Land Cruiser FJ62",
          "1987 Toyota Land Cruiser FJ60 4-Speed",
          "No Reserve: 1990 Toyota Land Cruiser FJ62",
          "1988 Toyota Land Cruiser FJ62",
          "1987 Toyota Land Cruiser FJ60",
          "1989 Toyota Land Cruiser FJ62",
          "1989 Toyota Land Cruiser FJ62",
          "Vortec-Powered 1987 Toyota Land Cruiser FJ60",
          "1990 Toyota Land Cruiser FJ62",
          "1985 Toyota Land Cruiser G HJ60 Diesel",
          "1986 Toyota Land Cruiser FJ60",
          "1989 Toyota Land Cruiser FJ62",
          "1987 Toyota Land Cruiser FJ60 5-Speed",
          "1987 Toyota Land Cruiser FJ60 4-Speed",
          "1988 Toyota Land Cruiser FJ62",
          "1988 Toyota Land Cruiser FJ62",
          "1992 Toyota Land Cruiser FJ62 5-Speed",
          "No Reserve: 1990 Toyota Land Cruiser FJ62",
          "1987 Toyota Land Cruiser FJ60",
          "1989 Toyota Land Cruiser FJ62",
          "1984 Toyota Land Cruiser FJ60",
          "1988 Toyota Land Cruiser FJ62",
          "No Reserve: 1988 Toyota Land Cruiser FJ62",
          "No Reserve: 1982 Toyota Land Cruiser FJ60",
          "1983 Toyota Land Cruiser BJ60 5-Speed",
          "V8-Powered 1985 Toyota Land Cruiser FJ60 5-Speed",
          "1987 Toyota Land Cruiser FJ60",
          "Vortec-Powered 1984 Toyota Land Cruiser FJ60",
          "1986 Toyota Land Cruiser FJ60 5-Speed",
          "1987 Toyota Land Cruiser FJ60 4-Speed",
          "1989 Toyota Land Cruiser FJ62",
          "48k-Mile 1985 Toyota Land Cruiser FJ60",
          "V8-Powered 1985 Toyota Land Cruiser FJ60 5-Speed",
          "1986 Toyota Land Cruiser FJ62 5-Speed",
          "No Reserve: 1981 Toyota Land Cruiser FJ60 Project",
          "1988 Toyota Land Cruiser FJ62",
          "350-Powered 1990 Toyota Land Cruiser FJ62",
          "1985 Toyota Land Cruiser FJ60",
          "1986 Toyota Land Cruiser HJ61",
          "32k-Mile 1989 Toyota Land Cruiser FJ62",
          "22-Years-Owned 1989 Toyota Land Cruiser FJ62",
          "V8-Powered 1985 Toyota Land Cruiser FJ60",
          "1987 Toyota Land Cruiser FJ60",
          "No Reserve: 1985 Toyota Land Cruiser FJ60 5-Speed",
          "1988 Toyota Land Cruiser FJ62",
          "1985 Toyota Land Cruiser FJ60",
          "No Reserve: 1986 Toyota Land Cruiser FJ60",
          "1988 Toyota Land Cruiser FJ62",
          "1987 Toyota Land Cruiser FJ60",
          "1990 Toyota Land Cruiser FJ62",
          "Vortec-Powered 1989 Toyota Land Cruiser FJ62",
          "1989 Toyota Land Cruiser FJ62 4-Speed",
          "Vortec-Powered 1987 Toyota Land Cruiser FJ60",
          "Original-Owner 1989 Toyota Land Cruiser FJ62",
          "1985 Toyota Land Cruiser FJ60",
          "Vortec-Powered 1990 Toyota Land Cruiser FJ62",
          "1988 Toyota Land Cruiser FJ62",
          "No Reserve: 1985 Toyota Land Cruiser FJ60",
          "1983 Toyota Land Cruiser FJ60",
          "Vortec-Powered 1988 Toyota Land Cruiser FJ62",
          "1988 Toyota Land Cruiser HJ61",
          "1989 Toyota Land Cruiser FJ62",
          "No Reserve: 1988 Toyota Land Cruiser FJ62",
          "1985 Toyota Land Cruiser FJ60",
          "1987 Toyota Land Cruiser FJ60",
          "Vortec-Powered 1985 Toyota Land Cruiser FJ60 w/Trailer",
          "30-Years-Owned 50k-Mile 1988 Toyota Land Cruiser FJ62",
          "Restored 1986 Toyota Land Cruiser FJ60",
          "1985 Toyota Land Cruiser FJ60",
          "1985 Toyota Land Cruiser FJ60",
          "Vortec-Powered 1990 Toyota Land Cruiser FJ62",
          "1987 Toyota Land Cruiser FJ60",
          "1987 Toyota Land Cruiser FJ60",
          "1987 Toyota Land Cruiser FJ60",
          "1988 Toyota Land Cruiser FJ62",
          "1986 Toyota Land Cruiser FJ60",
          "Vortec-Powered 1984 Toyota Land Cruiser FJ60",
          "Restored 1986 Toyota Land Cruiser FJ60",
          "1985 Toyota Land Cruiser FJ60 4-Speed",
          "1983 Toyota Land Cruiser FJ60",
          "1984 Toyota Land Cruiser FJ60",
          "1983 Toyota Land Cruiser FJ60",
          "1990 Toyota Land Cruiser FJ62",
          "1985 Toyota Land Cruiser FJ60",
          "Vortec V8-Powered 1984 Toyota Land Cruiser FJ60",
          "1988 Toyota Land Cruiser FJ62",
          "1989 Toyota Land Cruiser FJ62 High Roof 5-Speed",
          "1981 Toyota Land Cruiser FJ60",
          "Vortec-Powered 1988 Toyota Land Cruiser FJ62",
          "1986 Toyota Land Cruiser 5-Speed",
          "1989 Toyota Land Cruiser FJ62",
          "1984 Toyota Land Cruiser FJ60",
          "1985 Toyota Land Cruiser HJ60 High Roof",
          "LS3-Powered 1989 Toyota Land Cruiser FJ62",
          "No Reserve: Cummins-Powered 1989 Toyota Land Cruiser FJ62 5-Speed",
          "66k-Mile 1989 Toyota Land Cruiser FJ62",
          "1989 Toyota Land Cruiser FJ62",
          "1988 Toyota Land Cruiser FJ62 5-Speed",
          "Modified 1985 Toyota Land Cruiser FJ60 V8 4-Speed",
          "1989 Toyota Land Cruiser FJ62",
          "1988 Toyota Land Cruiser FJ62",
          "Diesel 1985 Toyota Land Cruiser FJ60",
          "32k-Mile 1989 Toyota Land Cruiser FJ62",
          "1989 Toyota Land Cruiser FJ62",
          "1984 Toyota Land Cruiser FJ60",
          "1987 Toyota Land Cruiser FJ60",
          "1984 Toyota Land Cruiser FJ60",
          "1984 Toyota Land Cruiser FJ60",
          "57k-Mile 1990 Toyota Land Cruiser FJ62",
          "1988 Toyota Land Cruiser FJ62",
          "No Reserve: 1988 Toyota Land Cruiser FJ62",
          "1983 Toyota Land Cruiser FJ60",
          "One-Owner 1988 Toyota Land Cruiser FJ62",
          "1986 Toyota Land Cruiser FJ60",
          "1984 Toyota Land Cruiser FJ60",
          "1988 Toyota Land Cruiser FJ62",
          "1989 Toyota Land Cruiser FJ62",
          "1988 Toyota Land Cruiser FJ62",
          "1984 Toyota Land Cruiser FJ60",
          "1988 Toyota Land Cruiser FJ62",
          "1988 Toyota Land Cruiser FJ62",
          "1982 Toyota Land Cruiser FJ60",
          "1990 Toyota Land Cruiser FJ62",
          "1987 Toyota Land Cruiser FJ60 5-Speed",
          "1984 Toyota Land Cruiser FJ60",
          "1983 Toyota Land Cruiser FJ60 5-Speed",
          "1990 Toyota Land Cruiser FJ62",
          "1987 Toyota Land Cruiser FJ60",
          "19-Years-Owned 1988 Toyota Land Cruiser FJ62",
          "1983 Toyota Land Cruiser FJ60",
          "1985 Toyota Land Cruiser FJ60",
          "1985 Toyota Land Cruiser FJ60",
          "59k-Mile 1984 Toyota Land Cruiser FJ60",
          "No Reserve: 1990 Toyota Land Cruiser FJ62",
          "1983 Toyota Land Cruiser FJ60",
          "1990 Toyota Land Cruiser FJ62",
          "LS3-Powered 1987 Toyota Land Cruiser FJ60",
          "No Reserve: 1985 Toyota Land Cruiser FJ60",
          "1990 Toyota Land Cruiser FJ62",
          "1984 Toyota Land Cruiser FJ60",
          "No Reserve: 1989 Toyota Land Cruiser FJ62",
          "LS-Powered 1986 Toyota Land Cruiser FJ60",
          "1988 Toyota Land Cruiser FJ62",
          "72k-Mile 1985 Toyota Land Cruiser FJ60",
          "1988 Toyota Land Cruiser FJ62",
          "1987 Toyota Land Cruiser FJ60",
          "6.0L Vortec V8-Powered 1985 Toyota Land Cruiser FJ60 5-Speed",
          "1985 Toyota Land Cruiser FJ60 5-Speed",
          "1988 Toyota Land Cruiser FJ62",
          "Original-Owner 1987 Toyota Land Cruiser FJ60",
          "1989 Toyota Land Cruiser FJ62",
          "1987 Toyota Land Cruiser HJ60 Diesel",
          "1990 Toyota Land Cruiser FJ62",
          "1984 Toyota Land Cruiser FJ60",
          "1985 Toyota Land Cruiser FJ60",
          "1985 Toyota Land Cruiser FJ60",
          "No Reserve: 1987 Toyota Land Cruiser FJ60",
          "1984 Toyota Land Cruiser FJ60",
          "Modified 1985 Toyota Land Cruiser FJ60",
          "1985 Toyota Land Cruiser FJ60",
          "1987 Toyota Land Cruiser FJ60",
          "1988 Toyota Land Cruiser FJ62 5-Speed",
          "No Reserve: 1988 Toyota Land Cruiser FJ62",
          "1989 Toyota Land Cruiser FJ62",
          "No Reserve: 1989 Toyota Land Cruiser FJ62",
          "1984 Toyota Land Cruiser FJ60",
          "No Reserve: 58k-Mile 1985 Toyota Land Cruiser FJ60",
          "1987 Toyota Land Cruiser FJ60",
          "LS-Powered 1985 Toyota Land Cruiser FJ60 5-Speed",
          "1986 Toyota Land Cruiser FJ60",
          "1989 Toyota Land Cruiser FJ62",
          "No Reserve: 1987 Toyota Land Cruiser FJ60",
          "57k-Mile 1989 Toyota Land Cruiser FJ62",
          "1983 Toyota Land Cruiser FJ60",
          "1985 Toyota Land Cruiser FJ60",
          "1988 Toyota Land Cruiser FJ62",
          "1989 Toyota Land Cruiser HJ61",
          "1984 Toyota Land Cruiser FJ60",
          "1982 Toyota Land Cruiser FJ60",
          "1987 Toyota Land Cruiser FJ60",
          "1986 Toyota Land Cruiser FJ60",
          "1987 Toyota Land Cruiser FJ60",
          "1988 Toyota Land Cruiser FJ62",
          "1984 Toyota Land Cruiser FJ60 5-Speed",
          "V8-Powered 1988 Toyota Land Cruiser FJ62",
          "1984 Toyota Land Cruiser FJ60",
          "1987 Toyota Land Cruiser FJ60",
          "1986 Toyota Land Cruiser FJ60",
          "1985 Toyota Land Cruiser FJ60",
          "1988 Toyota Land Cruiser FJ62",
          "1989 Toyota Land Cruiser FJ62 5-Speed",
          "V8-Powered 1981 Toyota Land Cruiser FJ60",
          "No Reserve: 1985 Toyota Land Cruiser HJ60 5-Speed",
          "1983 Toyota Land Cruiser FJ60",
          "1988 Toyota Land Cruiser FJ62",
          "1987 Toyota Land Cruiser FJ60",
          "1983 Toyota Land Cruiser FJ60",
          "1987 Toyota Land Cruiser FJ60",
          "1989 Toyota Land Cruiser",
          "Original-Owner 1988 Toyota Land Cruiser FJ62",
          "1987 Toyota Land Cruiser FJ60",
          "1990 Toyota Land Cruiser FJ62",
          "103k-Mile 1990 Toyota Land Cruiser FJ62",
          "1987 Toyota Land Cruiser FJ60",
          "1984 Toyota Land Cruiser FJ60",
          "1988 Toyota Land Cruiser",
          "1988 Toyota Land Cruiser FJ62",
          "No Reserve: 1989 Toyota Land Cruiser FJ62",
          "1989 Toyota Land Cruiser FJ62",
          "1990 Toyota Land Cruiser FJ62",
          "1983 Toyota Land Cruiser FJ60",
          "1986 Toyota Land Cruiser FJ60",
          "1987 Toyota Land Cruiser FJ60",
          "No Reserve: 1990 Toyota Land Cruiser FJ62",
          "1983 Toyota Land Cruiser FJ60",
          "1987 Toyota Land Cruiser FJ60",
          "No Reserve: 1990 Toyota Land Cruiser FJ62",
          "1990 Toyota Land Cruiser FJ62",
          "1988 Toyota Land Cruiser FJ62",
          "1984 Toyota Land Cruiser FJ60",
          "1987 Toyota Land Cruiser FJ60",
          "1988 Toyota Land Cruiser FJ62",
          "No Reserve: 1987 Toyota Land Cruiser FJ60",
          "1985 Toyota Land Cruiser FJ60",
          "1985 Toyota Land Cruiser FJ60 5-Speed",
          "1988 Toyota Land Cruiser FJ62",
          "1982 Toyota Land Cruiser FJ60",
          "1987 Toyota Land Cruiser FJ60",
          "1985 Toyota Land Cruiser FJ60 4-Speed",
          "V8-Powered 1985 Toyota Land Cruiser FJ60 5-Speed",
          "1983 Toyota Land Cruiser FJ60",
          "No Reserve: 1984 Toyota Land Cruiser FJ60",
          "V8-Powered 1982 Toyota Land Cruiser FJ60 5-Speed",
          "1990 Toyota Land Cruiser FJ62",
          "1989 Toyota Land Cruiser HJ61",
          "1989 Toyota Land Cruiser FJ62",
          "1987 Toyota Land Cruiser FJ60",
          "1984 Toyota Land Cruiser FJ60 4-Speed",
          "1988 Toyota Land Cruiser FJ62",
          "No Reserve: 1987 Toyota Land Cruiser FJ60 4-Speed",
          "1987 Toyota Land Cruiser FJ60",
          "1987 Toyota Land Cruiser FJ60",
          "27K-Mile 1989 Toyota Land Cruiser FJ62",
          "1986 Toyota Land Cruiser FJ60"
         ],
         "legendgroup": "sold",
         "marker": {
          "color": "light blue",
          "symbol": "circle"
         },
         "mode": "markers",
         "name": "",
         "orientation": "v",
         "showlegend": false,
         "type": "scatter",
         "x": [
          "2022-03-22",
          "2022-03-19",
          "2022-03-16",
          "2022-03-14",
          "2022-03-07",
          "2022-03-06",
          "2022-02-24",
          "2022-02-22",
          "2022-02-20",
          "2022-02-19",
          "2022-02-18",
          "2022-02-17",
          "2022-02-11",
          "2022-02-11",
          "2022-02-10",
          "2022-02-09",
          "2022-02-08",
          "2022-02-06",
          "2022-02-05",
          "2022-02-03",
          "2022-02-01",
          "2022-01-30",
          "2022-01-29",
          "2022-01-27",
          "2022-01-25",
          "2022-01-24",
          "2022-01-22",
          "2022-01-17",
          "2022-01-16",
          "2022-01-13",
          "2022-01-13",
          "2022-01-12",
          "2022-01-11",
          "2022-01-10",
          "2022-01-09",
          "2022-01-08",
          "2022-01-06",
          "2021-12-28",
          "2021-12-21",
          "2021-12-20",
          "2021-12-20",
          "2021-12-17",
          "2021-12-15",
          "2021-12-07",
          "2021-12-06",
          "2021-12-05",
          "2021-11-30",
          "2021-11-22",
          "2021-11-21",
          "2021-11-20",
          "2021-11-19",
          "2021-11-15",
          "2021-11-14",
          "2021-11-14",
          "2021-11-13",
          "2021-11-12",
          "2021-11-07",
          "2021-11-07",
          "2021-11-05",
          "2021-10-31",
          "2021-10-30",
          "2021-10-28",
          "2021-10-25",
          "2021-10-24",
          "2021-10-23",
          "2021-10-21",
          "2021-10-20",
          "2021-10-18",
          "2021-10-16",
          "2021-10-14",
          "2021-10-13",
          "2021-10-13",
          "2021-10-07",
          "2021-10-03",
          "2021-09-19",
          "2021-09-12",
          "2021-09-09",
          "2021-09-06",
          "2021-09-02",
          "2021-08-27",
          "2021-08-24",
          "2021-08-20",
          "2021-08-19",
          "2021-08-14",
          "2021-08-07",
          "2021-08-03",
          "2021-07-31",
          "2021-07-28",
          "2021-07-24",
          "2021-07-21",
          "2021-07-20",
          "2021-07-18",
          "2021-07-17",
          "2021-07-16",
          "2021-07-15",
          "2021-07-08",
          "2021-07-06",
          "2021-07-01",
          "2021-06-29",
          "2021-06-23",
          "2021-06-22",
          "2021-06-13",
          "2021-06-09",
          "2021-06-07",
          "2021-06-06",
          "2021-05-30",
          "2021-05-27",
          "2021-05-24",
          "2021-05-21",
          "2021-05-12",
          "2021-04-28",
          "2021-04-21",
          "2021-04-18",
          "2021-04-17",
          "2021-04-16",
          "2021-04-13",
          "2021-04-12",
          "2021-04-12",
          "2021-04-08",
          "2021-04-05",
          "2021-04-05",
          "2021-04-02",
          "2021-04-01",
          "2021-03-28",
          "2021-03-26",
          "2021-03-25",
          "2021-03-21",
          "2021-03-11",
          "2021-03-08",
          "2021-03-04",
          "2021-03-04",
          "2021-03-02",
          "2021-03-01",
          "2021-02-25",
          "2021-02-24",
          "2021-02-23",
          "2021-02-18",
          "2021-02-16",
          "2021-02-15",
          "2021-02-12",
          "2021-02-12",
          "2021-02-08",
          "2021-01-29",
          "2021-01-26",
          "2021-01-20",
          "2021-01-11",
          "2021-01-11",
          "2021-01-08",
          "2021-01-04",
          "2020-12-31",
          "2020-12-18",
          "2020-12-14",
          "2020-12-11",
          "2020-12-07",
          "2020-12-03",
          "2020-12-01",
          "2020-11-30",
          "2020-11-25",
          "2020-11-24",
          "2020-11-23",
          "2020-11-16",
          "2020-11-05",
          "2020-11-02",
          "2020-10-29",
          "2020-10-29",
          "2020-10-23",
          "2020-10-20",
          "2020-10-16",
          "2020-10-14",
          "2020-10-13",
          "2020-10-12",
          "2020-10-05",
          "2020-10-02",
          "2020-10-02",
          "2020-10-01",
          "2020-09-25",
          "2020-09-24",
          "2020-09-21",
          "2020-09-16",
          "2020-09-14",
          "2020-09-09",
          "2020-09-08",
          "2020-09-03",
          "2020-09-02",
          "2020-08-20",
          "2020-08-12",
          "2020-08-10",
          "2020-08-07",
          "2020-08-05",
          "2020-08-04",
          "2020-07-30",
          "2020-07-29",
          "2020-07-28",
          "2020-07-22",
          "2020-07-20",
          "2020-07-14",
          "2020-07-10",
          "2020-07-01",
          "2020-06-30",
          "2020-06-25",
          "2020-06-24",
          "2020-06-11",
          "2020-06-04",
          "2020-05-28",
          "2020-05-27",
          "2020-05-26",
          "2020-05-21",
          "2020-05-14",
          "2020-05-11",
          "2020-04-30",
          "2020-04-29",
          "2020-04-01",
          "2020-03-11",
          "2020-03-05",
          "2020-03-04",
          "2020-02-26",
          "2020-02-10",
          "2020-02-07",
          "2020-02-04",
          "2020-01-28",
          "2020-01-23",
          "2020-01-21",
          "2020-01-10",
          "2020-01-03",
          "2020-01-02",
          "2019-12-27",
          "2019-12-26",
          "2019-12-12",
          "2019-12-11",
          "2019-11-29",
          "2019-11-22",
          "2019-11-21",
          "2019-11-20",
          "2019-11-15",
          "2019-11-01",
          "2019-10-17",
          "2019-10-07",
          "2019-10-03",
          "2019-09-26",
          "2019-09-20",
          "2019-09-09",
          "2019-08-15",
          "2019-08-09",
          "2019-08-08",
          "2019-07-17",
          "2019-07-15",
          "2019-07-12",
          "2019-06-18",
          "2019-06-13",
          "2019-06-11",
          "2019-06-10",
          "2019-05-31",
          "2019-05-20",
          "2019-05-03",
          "2019-05-01",
          "2019-04-19",
          "2019-04-09",
          "2019-03-01",
          "2019-01-22",
          "2019-01-11",
          "2019-01-07",
          "2018-12-28",
          "2018-12-21",
          "2018-12-12",
          "2018-12-04",
          "2018-11-20",
          "2018-11-07",
          "2018-11-01",
          "2018-10-25",
          "2018-10-15",
          "2018-10-08",
          "2018-09-26",
          "2018-09-20",
          "2018-09-06",
          "2018-08-29",
          "2018-08-16",
          "2018-07-26",
          "2018-07-18",
          "2018-06-13",
          "2018-06-06",
          "2018-05-16",
          "2018-04-26",
          "2018-04-05",
          "2018-02-23",
          "2018-02-05",
          "2018-01-22",
          "2018-01-18",
          "2017-12-27",
          "2017-11-07",
          "2017-10-31",
          "2017-09-28",
          "2017-09-05",
          "2017-08-29",
          "2017-08-25",
          "2017-08-18",
          "2017-06-29",
          "2017-06-06",
          "2017-05-30",
          "2017-05-24",
          "2017-05-23",
          "2017-05-09",
          "2017-04-05"
         ],
         "xaxis": "x",
         "y": [
          19000,
          22500,
          13250,
          33000,
          22750,
          48500,
          35000,
          27000,
          43500,
          100000,
          34250,
          36000,
          97000,
          13500,
          56000,
          21000,
          17250,
          19500,
          51500,
          23500,
          16000,
          40000,
          47000,
          35250,
          17250,
          66000,
          29000,
          32000,
          49750,
          28500,
          16000,
          25000,
          83000,
          49000,
          23250,
          48500,
          9800,
          33500,
          16500,
          54000,
          46750,
          33250,
          60000,
          41500,
          12000,
          37500,
          45000,
          36050,
          32250,
          48550,
          46500,
          29500,
          45317,
          32109,
          42500,
          31000,
          35850,
          24250,
          38750,
          25000,
          29000,
          40000,
          26500,
          28000,
          40250,
          36250,
          19500,
          39000,
          24250,
          43000,
          22500,
          27500,
          29750,
          31250,
          42000,
          17000,
          27000,
          35500,
          25250,
          37000,
          44000,
          127500,
          28500,
          73000,
          19200,
          22250,
          34000,
          26000,
          40750,
          76000,
          51777,
          36750,
          25000,
          46000,
          28750,
          24500,
          21700,
          33500,
          30250,
          11500,
          26250,
          35250,
          22000,
          65000,
          34013,
          49750,
          33500,
          26500,
          30000,
          25250,
          39775,
          45250,
          68000,
          27750,
          18250,
          29500,
          27000,
          27000,
          28188,
          36000,
          26000,
          27000,
          26000,
          50000,
          26500,
          36500,
          45500,
          20250,
          26750,
          23500,
          23750,
          49500,
          27600,
          28000,
          27250,
          17502,
          40500,
          25250,
          38000,
          26500,
          24000,
          15775,
          25500,
          32500,
          38500,
          49000,
          33500,
          33500,
          11500,
          52000,
          53000,
          76500,
          27750,
          30500,
          18800,
          39000,
          21800,
          23000,
          26500,
          16000,
          28500,
          54000,
          25000,
          30000,
          71000,
          19000,
          14000,
          80000,
          22250,
          15750,
          23250,
          20500,
          40000,
          38250,
          48500,
          26000,
          45000,
          70000,
          20000,
          20000,
          24750,
          20250,
          26250,
          61000,
          24500,
          22500,
          36000,
          26500,
          18700,
          56000,
          20250,
          22750,
          75000,
          28250,
          25001,
          18250,
          40000,
          79500,
          25500,
          45250,
          24750,
          46000,
          22250,
          47000,
          80000,
          29500,
          25750,
          21250,
          19750,
          66500,
          23250,
          14000,
          31250,
          7369,
          15000,
          13000,
          14150,
          24112,
          39750,
          19100,
          26800,
          16888,
          17250,
          18500,
          20500,
          22000,
          18500,
          9500,
          51000,
          13050,
          21248,
          17500,
          37000,
          21850,
          16500,
          27500,
          23000,
          42500,
          16000,
          19770,
          24000,
          13000,
          25251,
          11700,
          24500,
          12750,
          36000,
          7800,
          20062,
          24250,
          10600,
          55000,
          15750,
          7600,
          23500,
          16500,
          17750,
          17000,
          21250,
          15000,
          20000,
          10500,
          31000,
          22000,
          23000,
          15750,
          30275,
          14500,
          34000,
          22500,
          15500,
          23000,
          22000,
          37500,
          14000,
          12000,
          27500,
          23000,
          24250,
          11000,
          9976,
          9100,
          15785,
          13250,
          12250,
          21900,
          11650,
          18855,
          12600,
          13000,
          11000,
          18500,
          19750,
          5300,
          17500,
          16500,
          7750,
          9000,
          8600,
          8400,
          18500,
          15750
         ],
         "yaxis": "y"
        },
        {
         "hovertemplate": "<b>%{hovertext}</b><br>Bid to %{y:$,} on %{x|%m/%d/%Y}",
         "hovertext": [
          "1987 Toyota Land Cruiser FJ60",
          "1987 Toyota Land Cruiser FJ60 4-Speed",
          "1989 Toyota Land Cruiser FJ62",
          "No Reserve: 1988 Toyota Land Cruiser FJ62",
          "No Reserve: 1984 Toyota Land Cruiser FJ60",
          "1986 Toyota Land Cruiser FJ60",
          "1988 Toyota Land Cruiser FJ62",
          "1984 Toyota Land Cruiser FJ60",
          "1985 Toyota Land Cruiser BJ60 Diesel 5-Speed",
          "1990 Toyota Land Cruiser FJ62",
          "1982 Toyota Land Cruiser FJ60",
          "Cummins-Powered 1983 Toyota Land Cruiser FJ60 4-Speed",
          "LS3-Powered 1989 Toyota Land Cruiser FJ62",
          "No Reserve: 1988 Toyota Land Cruiser FJ62",
          "Modified 1981 Toyota Land Cruiser FJ60 5-Speed",
          "1988 Toyota Land Cruiser FJ62",
          "TLC 4×4-Modified 1989 Toyota Land Cruiser FJ62",
          "1989 Toyota Land Cruiser FJ62",
          "1988 Toyota Land Cruiser FJ62",
          "1984 Toyota Land Cruiser FJ60",
          "1984 Toyota Land Cruiser FJ60",
          "1987 Toyota Land Cruiser FJ60 5-Speed",
          "1FZ-Powered 1989 Toyota Land Cruiser FJ62 5-Speed",
          "1989 Toyota Land Cruiser FJ62",
          "No Reserve: Vortec-Powered 1987 Toyota Land Cruiser FJ60",
          "No Reserve: 1989 Toyota Land Cruiser FJ62",
          "1982 Toyota Land Cruiser FJ60",
          "1986 Toyota Land Cruiser FJ60",
          "1984 Toyota Land Cruiser FJ60 5-Speed",
          "1989 Toyota Land Cruiser FJ62",
          "1988 Toyota Land Cruiser FJ62",
          "1986 Toyota Land Cruiser FJ60 5-Speed",
          "1986 Toyota Land Cruiser FJ60",
          "Vortec-Powered 1985 Toyota Land Cruiser FJ60",
          "1983 Toyota Land Cruiser FJ60",
          "1987 Toyota Land Cruiser FJ60 5-Speed",
          "1989 Toyota Land Cruiser FJ62",
          "1988 Toyota Land Cruiser FJ62",
          "1989 Toyota Land Cruiser FJ62",
          "1989 Toyota Land Cruiser FJ62",
          "1982 Toyota Land Cruiser FJ60",
          "1985 Toyota Land Cruiser FJ60",
          "1989 Toyota Land Cruiser FJ62",
          "No Reserve: Rover V8-Powered 1987 Toyota Land Cruiser 5-Speed",
          "1990 Toyota Land Cruiser FJ62",
          "1988 Toyota Land Cruiser FJ62",
          "No Reserve: 27-Years-Owned 1987 Toyota Land Cruiser FJ60",
          "5.3L-Powered 1989 Toyota Land Cruiser FJ62",
          "1988 Toyota Land Cruiser FJ62",
          "1982 Toyota Land Cruiser FJ60",
          "1989 Toyota Land Cruiser FJ62",
          "Vortec-Powered 1984 Toyota Land Cruiser FJ60",
          "1987 Toyota Land Cruiser FJ60",
          "1989 Toyota Land Cruiser FJ62",
          "No Reserve: 1989 Toyota Land Cruiser FJ62",
          "23-Years-Owned 1985 Toyota Land Cruiser FJ60",
          "1984 Toyota Land Cruiser FJ60",
          "1988 Toyota Land Cruiser FJ62",
          "1987 Toyota Land Cruiser FJ60",
          "No Reserve: 1985 Toyota Land Cruiser FJ60",
          "1984 Toyota Land Cruiser FJ60",
          "1989 Toyota Land Cruiser FJ62",
          "1986 Toyota Land Cruiser FJ60",
          "1989 Toyota Land Cruiser FJ62",
          "No Reserve: V8-Powered 1987 Toyota Land Cruiser FJ60 5-Speed",
          "1987 Toyota Land Cruiser FJ60",
          "1989 Toyota Land Cruiser FJ62",
          "1989 Toyota Land Cruiser FJ62",
          "5.7L Vortec-Powered 1985 Toyota Land Cruiser FJ60",
          "1985 Toyota Land Cruiser FJ60",
          "1988 Toyota Land Cruiser FJ62",
          "350-Powered 1986 Toyota Land Cruiser FJ60",
          "1990 Toyota Land Cruiser FJ62",
          "1985 Toyota Land Cruiser FJ60",
          "1985 Toyota Land Cruiser FJ60",
          "1988 Toyota Land Cruiser FJ62",
          "1989 Toyota Land Cruiser FJ62",
          "1984 Toyota Land Cruiser FJ60",
          "No Reserve: 1988 Toyota Land Cruiser FJ62",
          "Vortec-Powered 1989 Toyota Land Cruiser FJ62",
          "1989 Toyota Land Cruiser FJ62",
          "1987 Toyota Land Cruiser FJ60 5-Speed",
          "No Reserve: Modified 1984 Toyota Land Cruiser FJ60 5-Speed",
          "No Reserve: 1990 Toyota Land Cruiser FJ62",
          "1984 Toyota Land Cruiser FJ60",
          "1984 Toyota Land Cruiser FJ60",
          "1989 Toyota Land Cruiser FJ62",
          "1FZ-Powered 1989 Toyota Land Cruiser FJ62 5-Speed",
          "350-Powered 1985 Toyota Land Cruiser FJ60",
          "No Reserve: 1987 Toyota Land Cruiser FJ60",
          "1989 Toyota Land Cruiser FJ62",
          "350-Powered 1987 Toyota Land Cruiser FJ60",
          "1985 Toyota Land Cruiser FJ60",
          "1988 Toyota Land Cruiser FJ62",
          "1987 Toyota Land Cruiser FJ60",
          "LSA-Powered 1990 Toyota Land Cruiser FJ62",
          "No Reserve: 1988 Toyota Land Cruiser FJ62",
          "1989 Toyota Land Cruiser FJ62",
          "No Reserve: 1986 Toyota Land Cruiser FJ60",
          "No Reserve: 1985 Toyota Land Cruiser FJ60",
          "1989 Toyota Land Cruiser FJ62",
          "1984 Toyota Land Cruiser FJ60 5-Speed 4×4",
          "1985 Toyota Land Cruiser FJ60",
          "1989 Toyota Land Cruiser FJ62",
          "Original-Owner 1989 Toyota Land Cruiser FJ62",
          "Modified 1984 Toyota Land Cruiser FJ60",
          "1990 Toyota Land Cruiser FJ62",
          "No Reserve: 1989 Toyota Land Cruiser FJ62",
          "1985 Toyota Land Cruiser FJ60 5-Speed",
          "1983 Toyota Land Cruiser FJ60",
          "1988 Toyota Land Cruiser HJ60 High Roof",
          "1985 Toyota Land Cruiser FJ60",
          "1990 Toyota Land Cruiser FJ62",
          "1985 Toyota Land Cruiser FJ60",
          "1989 Toyota Land Cruiser FJ62",
          "No Reserve: 1983 Toyota Land Cruiser FJ60 Project",
          "1990 Toyota Land Cruiser FJ62",
          "1989 Toyota Land Cruiser FJ62",
          "1988 Toyota Land Cruiser FJ62",
          "No Reserve: Vortec-Powered 1990 Toyota Land Cruiser FJ62",
          "1987 Toyota Land Cruiser FJ60",
          "1985 Toyota Land Cruiser FJ60",
          "V8-Powered 1987 Toyota Land Cruiser FJ60",
          "1987 Toyota Land Cruiser FJ60 Turbodiesel",
          "1989 Toyota Land Cruiser FJ62",
          "1986 Toyota Land Cruiser FJ60 5-Speed",
          "Vortec-Powered 1985 Toyota Land Cruiser FJ60",
          "1989 Toyota Land Cruiser FJ62",
          "1986 Toyota Land Cruiser FJ60 5-Speed",
          "1988 Toyota Land Cruiser FJ62",
          "1989 Toyota Land Cruiser FJ62",
          "1989 Toyota Land Cruiser FJ62",
          "1989 Toyota Land Cruiser FJ62",
          "1987 Toyota Land Cruiser FJ60 5-Speed",
          "1985 Toyota Land Cruiser FJ60",
          "1989 Toyota Land Cruiser FJ62",
          "1985 Toyota Land Cruiser FJ60",
          "1989 Toyota Land Cruiser FJ62",
          "No Reserve: 1988 Toyota Land Cruiser FJ62",
          "1987 Toyota Land Cruiser FJ60 4-Speed",
          "No Reserve: 1990 Toyota Land Cruiser FJ62",
          "1988 Toyota Land Cruiser FJ62",
          "1987 Toyota Land Cruiser FJ60",
          "1989 Toyota Land Cruiser FJ62",
          "1989 Toyota Land Cruiser FJ62",
          "Vortec-Powered 1987 Toyota Land Cruiser FJ60",
          "1990 Toyota Land Cruiser FJ62",
          "1985 Toyota Land Cruiser G HJ60 Diesel",
          "1986 Toyota Land Cruiser FJ60",
          "1989 Toyota Land Cruiser FJ62",
          "1987 Toyota Land Cruiser FJ60 5-Speed",
          "1987 Toyota Land Cruiser FJ60 4-Speed",
          "1988 Toyota Land Cruiser FJ62",
          "1988 Toyota Land Cruiser FJ62",
          "1992 Toyota Land Cruiser FJ62 5-Speed",
          "No Reserve: 1990 Toyota Land Cruiser FJ62",
          "1987 Toyota Land Cruiser FJ60",
          "1989 Toyota Land Cruiser FJ62",
          "1984 Toyota Land Cruiser FJ60",
          "1988 Toyota Land Cruiser FJ62",
          "No Reserve: 1988 Toyota Land Cruiser FJ62",
          "No Reserve: 1982 Toyota Land Cruiser FJ60",
          "1983 Toyota Land Cruiser BJ60 5-Speed",
          "V8-Powered 1985 Toyota Land Cruiser FJ60 5-Speed",
          "1987 Toyota Land Cruiser FJ60",
          "Vortec-Powered 1984 Toyota Land Cruiser FJ60",
          "1986 Toyota Land Cruiser FJ60 5-Speed",
          "1987 Toyota Land Cruiser FJ60 4-Speed",
          "1989 Toyota Land Cruiser FJ62",
          "48k-Mile 1985 Toyota Land Cruiser FJ60",
          "V8-Powered 1985 Toyota Land Cruiser FJ60 5-Speed",
          "1986 Toyota Land Cruiser FJ62 5-Speed",
          "No Reserve: 1981 Toyota Land Cruiser FJ60 Project",
          "1988 Toyota Land Cruiser FJ62",
          "350-Powered 1990 Toyota Land Cruiser FJ62",
          "1985 Toyota Land Cruiser FJ60",
          "1986 Toyota Land Cruiser HJ61",
          "32k-Mile 1989 Toyota Land Cruiser FJ62",
          "22-Years-Owned 1989 Toyota Land Cruiser FJ62",
          "V8-Powered 1985 Toyota Land Cruiser FJ60",
          "1987 Toyota Land Cruiser FJ60",
          "No Reserve: 1985 Toyota Land Cruiser FJ60 5-Speed",
          "1988 Toyota Land Cruiser FJ62",
          "1985 Toyota Land Cruiser FJ60",
          "No Reserve: 1986 Toyota Land Cruiser FJ60",
          "1988 Toyota Land Cruiser FJ62",
          "1987 Toyota Land Cruiser FJ60",
          "1990 Toyota Land Cruiser FJ62",
          "Vortec-Powered 1989 Toyota Land Cruiser FJ62",
          "1989 Toyota Land Cruiser FJ62 4-Speed",
          "Vortec-Powered 1987 Toyota Land Cruiser FJ60",
          "Original-Owner 1989 Toyota Land Cruiser FJ62",
          "1985 Toyota Land Cruiser FJ60",
          "Vortec-Powered 1990 Toyota Land Cruiser FJ62",
          "1988 Toyota Land Cruiser FJ62",
          "No Reserve: 1985 Toyota Land Cruiser FJ60",
          "1983 Toyota Land Cruiser FJ60",
          "Vortec-Powered 1988 Toyota Land Cruiser FJ62",
          "1988 Toyota Land Cruiser HJ61",
          "1989 Toyota Land Cruiser FJ62",
          "No Reserve: 1988 Toyota Land Cruiser FJ62",
          "1985 Toyota Land Cruiser FJ60",
          "1987 Toyota Land Cruiser FJ60",
          "Vortec-Powered 1985 Toyota Land Cruiser FJ60 w/Trailer",
          "30-Years-Owned 50k-Mile 1988 Toyota Land Cruiser FJ62",
          "Restored 1986 Toyota Land Cruiser FJ60",
          "1985 Toyota Land Cruiser FJ60",
          "1985 Toyota Land Cruiser FJ60",
          "Vortec-Powered 1990 Toyota Land Cruiser FJ62",
          "1987 Toyota Land Cruiser FJ60",
          "1987 Toyota Land Cruiser FJ60",
          "1987 Toyota Land Cruiser FJ60",
          "1988 Toyota Land Cruiser FJ62",
          "1986 Toyota Land Cruiser FJ60",
          "Vortec-Powered 1984 Toyota Land Cruiser FJ60",
          "Restored 1986 Toyota Land Cruiser FJ60",
          "1985 Toyota Land Cruiser FJ60 4-Speed",
          "1983 Toyota Land Cruiser FJ60",
          "1984 Toyota Land Cruiser FJ60",
          "1983 Toyota Land Cruiser FJ60",
          "1990 Toyota Land Cruiser FJ62",
          "1985 Toyota Land Cruiser FJ60",
          "Vortec V8-Powered 1984 Toyota Land Cruiser FJ60",
          "1988 Toyota Land Cruiser FJ62",
          "1989 Toyota Land Cruiser FJ62 High Roof 5-Speed",
          "1981 Toyota Land Cruiser FJ60",
          "Vortec-Powered 1988 Toyota Land Cruiser FJ62",
          "1986 Toyota Land Cruiser 5-Speed",
          "1989 Toyota Land Cruiser FJ62",
          "1984 Toyota Land Cruiser FJ60",
          "1985 Toyota Land Cruiser HJ60 High Roof",
          "LS3-Powered 1989 Toyota Land Cruiser FJ62",
          "No Reserve: Cummins-Powered 1989 Toyota Land Cruiser FJ62 5-Speed",
          "66k-Mile 1989 Toyota Land Cruiser FJ62",
          "1989 Toyota Land Cruiser FJ62",
          "1988 Toyota Land Cruiser FJ62 5-Speed",
          "Modified 1985 Toyota Land Cruiser FJ60 V8 4-Speed",
          "1989 Toyota Land Cruiser FJ62",
          "1988 Toyota Land Cruiser FJ62",
          "Diesel 1985 Toyota Land Cruiser FJ60",
          "32k-Mile 1989 Toyota Land Cruiser FJ62",
          "1989 Toyota Land Cruiser FJ62",
          "1984 Toyota Land Cruiser FJ60",
          "1987 Toyota Land Cruiser FJ60",
          "1984 Toyota Land Cruiser FJ60",
          "1984 Toyota Land Cruiser FJ60",
          "57k-Mile 1990 Toyota Land Cruiser FJ62",
          "1988 Toyota Land Cruiser FJ62",
          "No Reserve: 1988 Toyota Land Cruiser FJ62",
          "1983 Toyota Land Cruiser FJ60",
          "One-Owner 1988 Toyota Land Cruiser FJ62",
          "1986 Toyota Land Cruiser FJ60",
          "1984 Toyota Land Cruiser FJ60",
          "1988 Toyota Land Cruiser FJ62",
          "1989 Toyota Land Cruiser FJ62",
          "1988 Toyota Land Cruiser FJ62",
          "1984 Toyota Land Cruiser FJ60",
          "1988 Toyota Land Cruiser FJ62",
          "1988 Toyota Land Cruiser FJ62",
          "1982 Toyota Land Cruiser FJ60",
          "1990 Toyota Land Cruiser FJ62",
          "1987 Toyota Land Cruiser FJ60 5-Speed",
          "1984 Toyota Land Cruiser FJ60",
          "1983 Toyota Land Cruiser FJ60 5-Speed",
          "1990 Toyota Land Cruiser FJ62",
          "1987 Toyota Land Cruiser FJ60",
          "19-Years-Owned 1988 Toyota Land Cruiser FJ62",
          "1983 Toyota Land Cruiser FJ60",
          "1985 Toyota Land Cruiser FJ60",
          "1985 Toyota Land Cruiser FJ60",
          "59k-Mile 1984 Toyota Land Cruiser FJ60",
          "No Reserve: 1990 Toyota Land Cruiser FJ62",
          "1983 Toyota Land Cruiser FJ60",
          "1990 Toyota Land Cruiser FJ62",
          "LS3-Powered 1987 Toyota Land Cruiser FJ60",
          "No Reserve: 1985 Toyota Land Cruiser FJ60",
          "1990 Toyota Land Cruiser FJ62",
          "1984 Toyota Land Cruiser FJ60",
          "No Reserve: 1989 Toyota Land Cruiser FJ62",
          "LS-Powered 1986 Toyota Land Cruiser FJ60",
          "1988 Toyota Land Cruiser FJ62",
          "72k-Mile 1985 Toyota Land Cruiser FJ60",
          "1988 Toyota Land Cruiser FJ62",
          "1987 Toyota Land Cruiser FJ60",
          "6.0L Vortec V8-Powered 1985 Toyota Land Cruiser FJ60 5-Speed",
          "1985 Toyota Land Cruiser FJ60 5-Speed",
          "1988 Toyota Land Cruiser FJ62",
          "Original-Owner 1987 Toyota Land Cruiser FJ60",
          "1989 Toyota Land Cruiser FJ62",
          "1987 Toyota Land Cruiser HJ60 Diesel",
          "1990 Toyota Land Cruiser FJ62",
          "1984 Toyota Land Cruiser FJ60",
          "1985 Toyota Land Cruiser FJ60",
          "1985 Toyota Land Cruiser FJ60",
          "No Reserve: 1987 Toyota Land Cruiser FJ60",
          "1984 Toyota Land Cruiser FJ60",
          "Modified 1985 Toyota Land Cruiser FJ60",
          "1985 Toyota Land Cruiser FJ60",
          "1987 Toyota Land Cruiser FJ60",
          "1988 Toyota Land Cruiser FJ62 5-Speed",
          "No Reserve: 1988 Toyota Land Cruiser FJ62",
          "1989 Toyota Land Cruiser FJ62",
          "No Reserve: 1989 Toyota Land Cruiser FJ62",
          "1984 Toyota Land Cruiser FJ60",
          "No Reserve: 58k-Mile 1985 Toyota Land Cruiser FJ60",
          "1987 Toyota Land Cruiser FJ60",
          "LS-Powered 1985 Toyota Land Cruiser FJ60 5-Speed",
          "1986 Toyota Land Cruiser FJ60",
          "1989 Toyota Land Cruiser FJ62",
          "No Reserve: 1987 Toyota Land Cruiser FJ60",
          "57k-Mile 1989 Toyota Land Cruiser FJ62",
          "1983 Toyota Land Cruiser FJ60",
          "1985 Toyota Land Cruiser FJ60",
          "1988 Toyota Land Cruiser FJ62",
          "1989 Toyota Land Cruiser HJ61",
          "1984 Toyota Land Cruiser FJ60",
          "1982 Toyota Land Cruiser FJ60",
          "1987 Toyota Land Cruiser FJ60",
          "1986 Toyota Land Cruiser FJ60",
          "1987 Toyota Land Cruiser FJ60",
          "1988 Toyota Land Cruiser FJ62",
          "1984 Toyota Land Cruiser FJ60 5-Speed",
          "V8-Powered 1988 Toyota Land Cruiser FJ62",
          "1984 Toyota Land Cruiser FJ60",
          "1987 Toyota Land Cruiser FJ60",
          "1986 Toyota Land Cruiser FJ60",
          "1985 Toyota Land Cruiser FJ60",
          "1988 Toyota Land Cruiser FJ62",
          "1989 Toyota Land Cruiser FJ62 5-Speed",
          "V8-Powered 1981 Toyota Land Cruiser FJ60",
          "No Reserve: 1985 Toyota Land Cruiser HJ60 5-Speed",
          "1983 Toyota Land Cruiser FJ60",
          "1988 Toyota Land Cruiser FJ62",
          "1987 Toyota Land Cruiser FJ60",
          "1983 Toyota Land Cruiser FJ60",
          "1987 Toyota Land Cruiser FJ60",
          "1989 Toyota Land Cruiser",
          "Original-Owner 1988 Toyota Land Cruiser FJ62",
          "1987 Toyota Land Cruiser FJ60",
          "1990 Toyota Land Cruiser FJ62",
          "103k-Mile 1990 Toyota Land Cruiser FJ62",
          "1987 Toyota Land Cruiser FJ60",
          "1984 Toyota Land Cruiser FJ60",
          "1988 Toyota Land Cruiser",
          "1988 Toyota Land Cruiser FJ62",
          "No Reserve: 1989 Toyota Land Cruiser FJ62",
          "1989 Toyota Land Cruiser FJ62",
          "1990 Toyota Land Cruiser FJ62",
          "1983 Toyota Land Cruiser FJ60",
          "1986 Toyota Land Cruiser FJ60",
          "1987 Toyota Land Cruiser FJ60",
          "No Reserve: 1990 Toyota Land Cruiser FJ62",
          "1983 Toyota Land Cruiser FJ60",
          "1987 Toyota Land Cruiser FJ60",
          "No Reserve: 1990 Toyota Land Cruiser FJ62",
          "1990 Toyota Land Cruiser FJ62",
          "1988 Toyota Land Cruiser FJ62",
          "1984 Toyota Land Cruiser FJ60",
          "1987 Toyota Land Cruiser FJ60",
          "1988 Toyota Land Cruiser FJ62",
          "No Reserve: 1987 Toyota Land Cruiser FJ60",
          "1985 Toyota Land Cruiser FJ60",
          "1985 Toyota Land Cruiser FJ60 5-Speed",
          "1988 Toyota Land Cruiser FJ62",
          "1982 Toyota Land Cruiser FJ60",
          "1987 Toyota Land Cruiser FJ60",
          "1985 Toyota Land Cruiser FJ60 4-Speed",
          "V8-Powered 1985 Toyota Land Cruiser FJ60 5-Speed",
          "1983 Toyota Land Cruiser FJ60",
          "No Reserve: 1984 Toyota Land Cruiser FJ60",
          "V8-Powered 1982 Toyota Land Cruiser FJ60 5-Speed",
          "1990 Toyota Land Cruiser FJ62",
          "1989 Toyota Land Cruiser HJ61",
          "1989 Toyota Land Cruiser FJ62",
          "1987 Toyota Land Cruiser FJ60",
          "1984 Toyota Land Cruiser FJ60 4-Speed",
          "1988 Toyota Land Cruiser FJ62",
          "No Reserve: 1987 Toyota Land Cruiser FJ60 4-Speed",
          "1987 Toyota Land Cruiser FJ60",
          "1987 Toyota Land Cruiser FJ60",
          "27K-Mile 1989 Toyota Land Cruiser FJ62",
          "1986 Toyota Land Cruiser FJ60"
         ],
         "legendgroup": "reserve not met",
         "marker": {
          "color": "orange",
          "symbol": "circle"
         },
         "mode": "markers",
         "name": "",
         "orientation": "v",
         "showlegend": false,
         "type": "scatter",
         "x": [
          "2022-03-19",
          "2022-03-11",
          "2022-03-09",
          "2022-02-18",
          "2022-02-07",
          "2022-02-07",
          "2022-02-01",
          "2022-01-05",
          "2021-12-13",
          "2021-12-09",
          "2021-12-01",
          "2021-11-03",
          "2021-09-27",
          "2021-09-26",
          "2021-07-30",
          "2021-07-13",
          "2021-06-03",
          "2021-05-31",
          "2021-04-29",
          "2021-04-23",
          "2021-03-17",
          "2021-03-09",
          "2021-02-19",
          "2021-02-05",
          "2020-12-24",
          "2020-12-15",
          "2020-12-10",
          "2020-11-12",
          "2020-11-09",
          "2020-10-19",
          "2020-10-15",
          "2020-09-07",
          "2020-08-19",
          "2020-07-31",
          "2020-06-09",
          "2020-06-02",
          "2020-05-07",
          "2020-03-26",
          "2020-03-19",
          "2020-01-16",
          "2020-01-09",
          "2019-12-19",
          "2019-11-08",
          "2019-11-05",
          "2019-10-25",
          "2019-10-11",
          "2019-10-04",
          "2019-09-27",
          "2019-09-19",
          "2019-09-17",
          "2019-08-19",
          "2019-07-05",
          "2019-07-02",
          "2019-05-27",
          "2019-05-22",
          "2019-05-13",
          "2019-04-30",
          "2019-02-21",
          "2019-02-18",
          "2019-02-11",
          "2019-01-29",
          "2019-01-04",
          "2018-12-31",
          "2018-12-07",
          "2018-11-29",
          "2018-10-31",
          "2018-10-24",
          "2018-10-24",
          "2018-09-19",
          "2018-09-05",
          "2018-09-03",
          "2018-05-09",
          "2018-04-27",
          "2018-02-20",
          "2017-11-21",
          "2017-11-15",
          "2017-08-22",
          "2017-08-15",
          "2017-05-04",
          "2017-04-20"
         ],
         "xaxis": "x",
         "y": [
          50750,
          24250,
          19000,
          23250,
          25000,
          29000,
          47000,
          18500,
          24750,
          23500,
          16000,
          23000,
          15100,
          27000,
          20000,
          14751,
          12550,
          29500,
          16500,
          34850,
          24000,
          27250,
          26000,
          20000,
          18000,
          7600,
          18000,
          42000,
          13000,
          15000,
          14500,
          15875,
          17500,
          16250,
          13750,
          15000,
          20000,
          14250,
          28000,
          12000,
          24750,
          14000,
          19500,
          10500,
          20000,
          28000,
          24254,
          18000,
          26500,
          23250,
          20250,
          27500,
          17250,
          8000,
          23250,
          9300,
          12500,
          13000,
          10000,
          17000,
          16000,
          8500,
          17500,
          14000,
          16000,
          11750,
          11250,
          8290,
          16500,
          13750,
          18250,
          13750,
          7100,
          8500,
          9700,
          4500,
          9000,
          10000,
          36250,
          55000
         ],
         "yaxis": "y"
        }
       ],
       "layout": {
        "font": {
         "family": "Arial"
        },
        "legend": {
         "title": {
          "text": "Auction Result"
         },
         "tracegroupgap": 0
        },
        "margin": {
         "t": 60
        },
        "template": {
         "data": {
          "bar": [
           {
            "error_x": {
             "color": "#2a3f5f"
            },
            "error_y": {
             "color": "#2a3f5f"
            },
            "marker": {
             "line": {
              "color": "#E5ECF6",
              "width": 0.5
             },
             "pattern": {
              "fillmode": "overlay",
              "size": 10,
              "solidity": 0.2
             }
            },
            "type": "bar"
           }
          ],
          "barpolar": [
           {
            "marker": {
             "line": {
              "color": "#E5ECF6",
              "width": 0.5
             },
             "pattern": {
              "fillmode": "overlay",
              "size": 10,
              "solidity": 0.2
             }
            },
            "type": "barpolar"
           }
          ],
          "carpet": [
           {
            "aaxis": {
             "endlinecolor": "#2a3f5f",
             "gridcolor": "white",
             "linecolor": "white",
             "minorgridcolor": "white",
             "startlinecolor": "#2a3f5f"
            },
            "baxis": {
             "endlinecolor": "#2a3f5f",
             "gridcolor": "white",
             "linecolor": "white",
             "minorgridcolor": "white",
             "startlinecolor": "#2a3f5f"
            },
            "type": "carpet"
           }
          ],
          "choropleth": [
           {
            "colorbar": {
             "outlinewidth": 0,
             "ticks": ""
            },
            "type": "choropleth"
           }
          ],
          "contour": [
           {
            "colorbar": {
             "outlinewidth": 0,
             "ticks": ""
            },
            "colorscale": [
             [
              0,
              "#0d0887"
             ],
             [
              0.1111111111111111,
              "#46039f"
             ],
             [
              0.2222222222222222,
              "#7201a8"
             ],
             [
              0.3333333333333333,
              "#9c179e"
             ],
             [
              0.4444444444444444,
              "#bd3786"
             ],
             [
              0.5555555555555556,
              "#d8576b"
             ],
             [
              0.6666666666666666,
              "#ed7953"
             ],
             [
              0.7777777777777778,
              "#fb9f3a"
             ],
             [
              0.8888888888888888,
              "#fdca26"
             ],
             [
              1,
              "#f0f921"
             ]
            ],
            "type": "contour"
           }
          ],
          "contourcarpet": [
           {
            "colorbar": {
             "outlinewidth": 0,
             "ticks": ""
            },
            "type": "contourcarpet"
           }
          ],
          "heatmap": [
           {
            "colorbar": {
             "outlinewidth": 0,
             "ticks": ""
            },
            "colorscale": [
             [
              0,
              "#0d0887"
             ],
             [
              0.1111111111111111,
              "#46039f"
             ],
             [
              0.2222222222222222,
              "#7201a8"
             ],
             [
              0.3333333333333333,
              "#9c179e"
             ],
             [
              0.4444444444444444,
              "#bd3786"
             ],
             [
              0.5555555555555556,
              "#d8576b"
             ],
             [
              0.6666666666666666,
              "#ed7953"
             ],
             [
              0.7777777777777778,
              "#fb9f3a"
             ],
             [
              0.8888888888888888,
              "#fdca26"
             ],
             [
              1,
              "#f0f921"
             ]
            ],
            "type": "heatmap"
           }
          ],
          "heatmapgl": [
           {
            "colorbar": {
             "outlinewidth": 0,
             "ticks": ""
            },
            "colorscale": [
             [
              0,
              "#0d0887"
             ],
             [
              0.1111111111111111,
              "#46039f"
             ],
             [
              0.2222222222222222,
              "#7201a8"
             ],
             [
              0.3333333333333333,
              "#9c179e"
             ],
             [
              0.4444444444444444,
              "#bd3786"
             ],
             [
              0.5555555555555556,
              "#d8576b"
             ],
             [
              0.6666666666666666,
              "#ed7953"
             ],
             [
              0.7777777777777778,
              "#fb9f3a"
             ],
             [
              0.8888888888888888,
              "#fdca26"
             ],
             [
              1,
              "#f0f921"
             ]
            ],
            "type": "heatmapgl"
           }
          ],
          "histogram": [
           {
            "marker": {
             "pattern": {
              "fillmode": "overlay",
              "size": 10,
              "solidity": 0.2
             }
            },
            "type": "histogram"
           }
          ],
          "histogram2d": [
           {
            "colorbar": {
             "outlinewidth": 0,
             "ticks": ""
            },
            "colorscale": [
             [
              0,
              "#0d0887"
             ],
             [
              0.1111111111111111,
              "#46039f"
             ],
             [
              0.2222222222222222,
              "#7201a8"
             ],
             [
              0.3333333333333333,
              "#9c179e"
             ],
             [
              0.4444444444444444,
              "#bd3786"
             ],
             [
              0.5555555555555556,
              "#d8576b"
             ],
             [
              0.6666666666666666,
              "#ed7953"
             ],
             [
              0.7777777777777778,
              "#fb9f3a"
             ],
             [
              0.8888888888888888,
              "#fdca26"
             ],
             [
              1,
              "#f0f921"
             ]
            ],
            "type": "histogram2d"
           }
          ],
          "histogram2dcontour": [
           {
            "colorbar": {
             "outlinewidth": 0,
             "ticks": ""
            },
            "colorscale": [
             [
              0,
              "#0d0887"
             ],
             [
              0.1111111111111111,
              "#46039f"
             ],
             [
              0.2222222222222222,
              "#7201a8"
             ],
             [
              0.3333333333333333,
              "#9c179e"
             ],
             [
              0.4444444444444444,
              "#bd3786"
             ],
             [
              0.5555555555555556,
              "#d8576b"
             ],
             [
              0.6666666666666666,
              "#ed7953"
             ],
             [
              0.7777777777777778,
              "#fb9f3a"
             ],
             [
              0.8888888888888888,
              "#fdca26"
             ],
             [
              1,
              "#f0f921"
             ]
            ],
            "type": "histogram2dcontour"
           }
          ],
          "mesh3d": [
           {
            "colorbar": {
             "outlinewidth": 0,
             "ticks": ""
            },
            "type": "mesh3d"
           }
          ],
          "parcoords": [
           {
            "line": {
             "colorbar": {
              "outlinewidth": 0,
              "ticks": ""
             }
            },
            "type": "parcoords"
           }
          ],
          "pie": [
           {
            "automargin": true,
            "type": "pie"
           }
          ],
          "scatter": [
           {
            "marker": {
             "colorbar": {
              "outlinewidth": 0,
              "ticks": ""
             }
            },
            "type": "scatter"
           }
          ],
          "scatter3d": [
           {
            "line": {
             "colorbar": {
              "outlinewidth": 0,
              "ticks": ""
             }
            },
            "marker": {
             "colorbar": {
              "outlinewidth": 0,
              "ticks": ""
             }
            },
            "type": "scatter3d"
           }
          ],
          "scattercarpet": [
           {
            "marker": {
             "colorbar": {
              "outlinewidth": 0,
              "ticks": ""
             }
            },
            "type": "scattercarpet"
           }
          ],
          "scattergeo": [
           {
            "marker": {
             "colorbar": {
              "outlinewidth": 0,
              "ticks": ""
             }
            },
            "type": "scattergeo"
           }
          ],
          "scattergl": [
           {
            "marker": {
             "colorbar": {
              "outlinewidth": 0,
              "ticks": ""
             }
            },
            "type": "scattergl"
           }
          ],
          "scattermapbox": [
           {
            "marker": {
             "colorbar": {
              "outlinewidth": 0,
              "ticks": ""
             }
            },
            "type": "scattermapbox"
           }
          ],
          "scatterpolar": [
           {
            "marker": {
             "colorbar": {
              "outlinewidth": 0,
              "ticks": ""
             }
            },
            "type": "scatterpolar"
           }
          ],
          "scatterpolargl": [
           {
            "marker": {
             "colorbar": {
              "outlinewidth": 0,
              "ticks": ""
             }
            },
            "type": "scatterpolargl"
           }
          ],
          "scatterternary": [
           {
            "marker": {
             "colorbar": {
              "outlinewidth": 0,
              "ticks": ""
             }
            },
            "type": "scatterternary"
           }
          ],
          "surface": [
           {
            "colorbar": {
             "outlinewidth": 0,
             "ticks": ""
            },
            "colorscale": [
             [
              0,
              "#0d0887"
             ],
             [
              0.1111111111111111,
              "#46039f"
             ],
             [
              0.2222222222222222,
              "#7201a8"
             ],
             [
              0.3333333333333333,
              "#9c179e"
             ],
             [
              0.4444444444444444,
              "#bd3786"
             ],
             [
              0.5555555555555556,
              "#d8576b"
             ],
             [
              0.6666666666666666,
              "#ed7953"
             ],
             [
              0.7777777777777778,
              "#fb9f3a"
             ],
             [
              0.8888888888888888,
              "#fdca26"
             ],
             [
              1,
              "#f0f921"
             ]
            ],
            "type": "surface"
           }
          ],
          "table": [
           {
            "cells": {
             "fill": {
              "color": "#EBF0F8"
             },
             "line": {
              "color": "white"
             }
            },
            "header": {
             "fill": {
              "color": "#C8D4E3"
             },
             "line": {
              "color": "white"
             }
            },
            "type": "table"
           }
          ]
         },
         "layout": {
          "annotationdefaults": {
           "arrowcolor": "#2a3f5f",
           "arrowhead": 0,
           "arrowwidth": 1
          },
          "autotypenumbers": "strict",
          "coloraxis": {
           "colorbar": {
            "outlinewidth": 0,
            "ticks": ""
           }
          },
          "colorscale": {
           "diverging": [
            [
             0,
             "#8e0152"
            ],
            [
             0.1,
             "#c51b7d"
            ],
            [
             0.2,
             "#de77ae"
            ],
            [
             0.3,
             "#f1b6da"
            ],
            [
             0.4,
             "#fde0ef"
            ],
            [
             0.5,
             "#f7f7f7"
            ],
            [
             0.6,
             "#e6f5d0"
            ],
            [
             0.7,
             "#b8e186"
            ],
            [
             0.8,
             "#7fbc41"
            ],
            [
             0.9,
             "#4d9221"
            ],
            [
             1,
             "#276419"
            ]
           ],
           "sequential": [
            [
             0,
             "#0d0887"
            ],
            [
             0.1111111111111111,
             "#46039f"
            ],
            [
             0.2222222222222222,
             "#7201a8"
            ],
            [
             0.3333333333333333,
             "#9c179e"
            ],
            [
             0.4444444444444444,
             "#bd3786"
            ],
            [
             0.5555555555555556,
             "#d8576b"
            ],
            [
             0.6666666666666666,
             "#ed7953"
            ],
            [
             0.7777777777777778,
             "#fb9f3a"
            ],
            [
             0.8888888888888888,
             "#fdca26"
            ],
            [
             1,
             "#f0f921"
            ]
           ],
           "sequentialminus": [
            [
             0,
             "#0d0887"
            ],
            [
             0.1111111111111111,
             "#46039f"
            ],
            [
             0.2222222222222222,
             "#7201a8"
            ],
            [
             0.3333333333333333,
             "#9c179e"
            ],
            [
             0.4444444444444444,
             "#bd3786"
            ],
            [
             0.5555555555555556,
             "#d8576b"
            ],
            [
             0.6666666666666666,
             "#ed7953"
            ],
            [
             0.7777777777777778,
             "#fb9f3a"
            ],
            [
             0.8888888888888888,
             "#fdca26"
            ],
            [
             1,
             "#f0f921"
            ]
           ]
          },
          "colorway": [
           "#636efa",
           "#EF553B",
           "#00cc96",
           "#ab63fa",
           "#FFA15A",
           "#19d3f3",
           "#FF6692",
           "#B6E880",
           "#FF97FF",
           "#FECB52"
          ],
          "font": {
           "color": "#2a3f5f"
          },
          "geo": {
           "bgcolor": "white",
           "lakecolor": "white",
           "landcolor": "#E5ECF6",
           "showlakes": true,
           "showland": true,
           "subunitcolor": "white"
          },
          "hoverlabel": {
           "align": "left"
          },
          "hovermode": "closest",
          "mapbox": {
           "style": "light"
          },
          "paper_bgcolor": "white",
          "plot_bgcolor": "#E5ECF6",
          "polar": {
           "angularaxis": {
            "gridcolor": "white",
            "linecolor": "white",
            "ticks": ""
           },
           "bgcolor": "#E5ECF6",
           "radialaxis": {
            "gridcolor": "white",
            "linecolor": "white",
            "ticks": ""
           }
          },
          "scene": {
           "xaxis": {
            "backgroundcolor": "#E5ECF6",
            "gridcolor": "white",
            "gridwidth": 2,
            "linecolor": "white",
            "showbackground": true,
            "ticks": "",
            "zerolinecolor": "white"
           },
           "yaxis": {
            "backgroundcolor": "#E5ECF6",
            "gridcolor": "white",
            "gridwidth": 2,
            "linecolor": "white",
            "showbackground": true,
            "ticks": "",
            "zerolinecolor": "white"
           },
           "zaxis": {
            "backgroundcolor": "#E5ECF6",
            "gridcolor": "white",
            "gridwidth": 2,
            "linecolor": "white",
            "showbackground": true,
            "ticks": "",
            "zerolinecolor": "white"
           }
          },
          "shapedefaults": {
           "line": {
            "color": "#2a3f5f"
           }
          },
          "ternary": {
           "aaxis": {
            "gridcolor": "white",
            "linecolor": "white",
            "ticks": ""
           },
           "baxis": {
            "gridcolor": "white",
            "linecolor": "white",
            "ticks": ""
           },
           "bgcolor": "#E5ECF6",
           "caxis": {
            "gridcolor": "white",
            "linecolor": "white",
            "ticks": ""
           }
          },
          "title": {
           "x": 0.05
          },
          "xaxis": {
           "automargin": true,
           "gridcolor": "white",
           "linecolor": "white",
           "ticks": "",
           "title": {
            "standoff": 15
           },
           "zerolinecolor": "white",
           "zerolinewidth": 2
          },
          "yaxis": {
           "automargin": true,
           "gridcolor": "white",
           "linecolor": "white",
           "ticks": "",
           "title": {
            "standoff": 15
           },
           "zerolinecolor": "white",
           "zerolinewidth": 2
          }
         }
        },
        "xaxis": {
         "anchor": "y",
         "domain": [
          0,
          1
         ],
         "dtick": "M12",
         "tick0": "2017-01-01",
         "tickformat": "%m/%Y",
         "title": {
          "text": "Auction Date"
         }
        },
        "yaxis": {
         "anchor": "x",
         "domain": [
          0,
          1
         ],
         "tickformat": "$,.2r",
         "title": {
          "text": "Closing Bid (USD)"
         }
        }
       }
      }
     },
     "metadata": {},
     "output_type": "display_data"
    }
   ],
   "source": [
    "fig = px.scatter(lc, x = 'closing_date', y = 'price', \n",
    "                 color = 'result', \n",
    "                 color_discrete_map = {\n",
    "                     'sold' : 'light blue',\n",
    "                     'reserve not met' : 'orange'\n",
    "                 },\n",
    "                 labels = {'closing_date' : 'Auction Date',\n",
    "                           'price' : 'Closing Bid (USD)',\n",
    "                           'result' : 'Auction Result'})\n",
    "\n",
    "fig.update_traces(showlegend = False,\n",
    "                  hovertemplate = '<b>%{hovertext}</b><br>Bid to %{y:$,} on %{x|%m/%d/%Y}',\n",
    "                  hovertext = lc.title.values,\n",
    "                  name = '')\n",
    "\n",
    "fig.update_xaxes(\n",
    "    dtick = 'M12',\n",
    "    tick0 = '2017-01-01',\n",
    "    tickformat = '%m/%Y'\n",
    ")\n",
    "\n",
    "fig.update_yaxes(\n",
    "    tickformat = '$,.2r'\n",
    ")\n",
    "\n",
    "fig.update_layout(\n",
    "    font_family = 'Arial'\n",
    ")"
   ]
  }
 ],
 "metadata": {
  "interpreter": {
   "hash": "40705a8803da5e30c8e58bc2b1e3269db9cdac1002ce786b26d6bdb5423f3cac"
  },
  "kernelspec": {
   "display_name": "Python 3.9.10 ('plotly')",
   "language": "python",
   "name": "python3"
  },
  "language_info": {
   "codemirror_mode": {
    "name": "ipython",
    "version": 3
   },
   "file_extension": ".py",
   "mimetype": "text/x-python",
   "name": "python",
   "nbconvert_exporter": "python",
   "pygments_lexer": "ipython3",
   "version": "3.9.10"
  },
  "orig_nbformat": 4
 },
 "nbformat": 4,
 "nbformat_minor": 2
}
